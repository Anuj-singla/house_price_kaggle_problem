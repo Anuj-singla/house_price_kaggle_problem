{
 "cells": [
  {
   "cell_type": "code",
   "execution_count": 87,
   "metadata": {},
   "outputs": [],
   "source": [
    "#rank-2860\n",
    "\n",
    "import numpy as np\n",
    "import pandas as pd\n",
    "import matplotlib.pyplot as plt\n",
    "import seaborn as sns"
   ]
  },
  {
   "cell_type": "code",
   "execution_count": 122,
   "metadata": {},
   "outputs": [],
   "source": [
    "df_train = pd.read_csv(r'C:\\Users\\hp\\Desktop\\house_price_kaggle/train.csv')\n",
    "df_test = pd.read_csv(r'C:\\Users\\hp\\Desktop\\house_price_kaggle/test.csv')"
   ]
  },
  {
   "cell_type": "code",
   "execution_count": 4,
   "metadata": {},
   "outputs": [
    {
     "data": {
      "text/plain": [
       "(1460, 81)"
      ]
     },
     "execution_count": 4,
     "metadata": {},
     "output_type": "execute_result"
    }
   ],
   "source": [
    "df_train.shape"
   ]
  },
  {
   "cell_type": "code",
   "execution_count": 5,
   "metadata": {},
   "outputs": [
    {
     "data": {
      "text/plain": [
       "(1459, 80)"
      ]
     },
     "execution_count": 5,
     "metadata": {},
     "output_type": "execute_result"
    }
   ],
   "source": [
    "df_test.shape"
   ]
  },
  {
   "cell_type": "code",
   "execution_count": 6,
   "metadata": {},
   "outputs": [
    {
     "data": {
      "text/html": [
       "<div>\n",
       "<style scoped>\n",
       "    .dataframe tbody tr th:only-of-type {\n",
       "        vertical-align: middle;\n",
       "    }\n",
       "\n",
       "    .dataframe tbody tr th {\n",
       "        vertical-align: top;\n",
       "    }\n",
       "\n",
       "    .dataframe thead th {\n",
       "        text-align: right;\n",
       "    }\n",
       "</style>\n",
       "<table border=\"1\" class=\"dataframe\">\n",
       "  <thead>\n",
       "    <tr style=\"text-align: right;\">\n",
       "      <th></th>\n",
       "      <th>Id</th>\n",
       "      <th>MSSubClass</th>\n",
       "      <th>MSZoning</th>\n",
       "      <th>LotFrontage</th>\n",
       "      <th>LotArea</th>\n",
       "      <th>Street</th>\n",
       "      <th>Alley</th>\n",
       "      <th>LotShape</th>\n",
       "      <th>LandContour</th>\n",
       "      <th>Utilities</th>\n",
       "      <th>...</th>\n",
       "      <th>PoolArea</th>\n",
       "      <th>PoolQC</th>\n",
       "      <th>Fence</th>\n",
       "      <th>MiscFeature</th>\n",
       "      <th>MiscVal</th>\n",
       "      <th>MoSold</th>\n",
       "      <th>YrSold</th>\n",
       "      <th>SaleType</th>\n",
       "      <th>SaleCondition</th>\n",
       "      <th>SalePrice</th>\n",
       "    </tr>\n",
       "  </thead>\n",
       "  <tbody>\n",
       "    <tr>\n",
       "      <th>0</th>\n",
       "      <td>1</td>\n",
       "      <td>60</td>\n",
       "      <td>RL</td>\n",
       "      <td>65.0</td>\n",
       "      <td>8450</td>\n",
       "      <td>Pave</td>\n",
       "      <td>NaN</td>\n",
       "      <td>Reg</td>\n",
       "      <td>Lvl</td>\n",
       "      <td>AllPub</td>\n",
       "      <td>...</td>\n",
       "      <td>0</td>\n",
       "      <td>NaN</td>\n",
       "      <td>NaN</td>\n",
       "      <td>NaN</td>\n",
       "      <td>0</td>\n",
       "      <td>2</td>\n",
       "      <td>2008</td>\n",
       "      <td>WD</td>\n",
       "      <td>Normal</td>\n",
       "      <td>208500</td>\n",
       "    </tr>\n",
       "    <tr>\n",
       "      <th>1</th>\n",
       "      <td>2</td>\n",
       "      <td>20</td>\n",
       "      <td>RL</td>\n",
       "      <td>80.0</td>\n",
       "      <td>9600</td>\n",
       "      <td>Pave</td>\n",
       "      <td>NaN</td>\n",
       "      <td>Reg</td>\n",
       "      <td>Lvl</td>\n",
       "      <td>AllPub</td>\n",
       "      <td>...</td>\n",
       "      <td>0</td>\n",
       "      <td>NaN</td>\n",
       "      <td>NaN</td>\n",
       "      <td>NaN</td>\n",
       "      <td>0</td>\n",
       "      <td>5</td>\n",
       "      <td>2007</td>\n",
       "      <td>WD</td>\n",
       "      <td>Normal</td>\n",
       "      <td>181500</td>\n",
       "    </tr>\n",
       "    <tr>\n",
       "      <th>2</th>\n",
       "      <td>3</td>\n",
       "      <td>60</td>\n",
       "      <td>RL</td>\n",
       "      <td>68.0</td>\n",
       "      <td>11250</td>\n",
       "      <td>Pave</td>\n",
       "      <td>NaN</td>\n",
       "      <td>IR1</td>\n",
       "      <td>Lvl</td>\n",
       "      <td>AllPub</td>\n",
       "      <td>...</td>\n",
       "      <td>0</td>\n",
       "      <td>NaN</td>\n",
       "      <td>NaN</td>\n",
       "      <td>NaN</td>\n",
       "      <td>0</td>\n",
       "      <td>9</td>\n",
       "      <td>2008</td>\n",
       "      <td>WD</td>\n",
       "      <td>Normal</td>\n",
       "      <td>223500</td>\n",
       "    </tr>\n",
       "    <tr>\n",
       "      <th>3</th>\n",
       "      <td>4</td>\n",
       "      <td>70</td>\n",
       "      <td>RL</td>\n",
       "      <td>60.0</td>\n",
       "      <td>9550</td>\n",
       "      <td>Pave</td>\n",
       "      <td>NaN</td>\n",
       "      <td>IR1</td>\n",
       "      <td>Lvl</td>\n",
       "      <td>AllPub</td>\n",
       "      <td>...</td>\n",
       "      <td>0</td>\n",
       "      <td>NaN</td>\n",
       "      <td>NaN</td>\n",
       "      <td>NaN</td>\n",
       "      <td>0</td>\n",
       "      <td>2</td>\n",
       "      <td>2006</td>\n",
       "      <td>WD</td>\n",
       "      <td>Abnorml</td>\n",
       "      <td>140000</td>\n",
       "    </tr>\n",
       "    <tr>\n",
       "      <th>4</th>\n",
       "      <td>5</td>\n",
       "      <td>60</td>\n",
       "      <td>RL</td>\n",
       "      <td>84.0</td>\n",
       "      <td>14260</td>\n",
       "      <td>Pave</td>\n",
       "      <td>NaN</td>\n",
       "      <td>IR1</td>\n",
       "      <td>Lvl</td>\n",
       "      <td>AllPub</td>\n",
       "      <td>...</td>\n",
       "      <td>0</td>\n",
       "      <td>NaN</td>\n",
       "      <td>NaN</td>\n",
       "      <td>NaN</td>\n",
       "      <td>0</td>\n",
       "      <td>12</td>\n",
       "      <td>2008</td>\n",
       "      <td>WD</td>\n",
       "      <td>Normal</td>\n",
       "      <td>250000</td>\n",
       "    </tr>\n",
       "  </tbody>\n",
       "</table>\n",
       "<p>5 rows × 81 columns</p>\n",
       "</div>"
      ],
      "text/plain": [
       "   Id  MSSubClass MSZoning  LotFrontage  LotArea Street Alley LotShape  \\\n",
       "0   1          60       RL         65.0     8450   Pave   NaN      Reg   \n",
       "1   2          20       RL         80.0     9600   Pave   NaN      Reg   \n",
       "2   3          60       RL         68.0    11250   Pave   NaN      IR1   \n",
       "3   4          70       RL         60.0     9550   Pave   NaN      IR1   \n",
       "4   5          60       RL         84.0    14260   Pave   NaN      IR1   \n",
       "\n",
       "  LandContour Utilities  ... PoolArea PoolQC Fence MiscFeature MiscVal MoSold  \\\n",
       "0         Lvl    AllPub  ...        0    NaN   NaN         NaN       0      2   \n",
       "1         Lvl    AllPub  ...        0    NaN   NaN         NaN       0      5   \n",
       "2         Lvl    AllPub  ...        0    NaN   NaN         NaN       0      9   \n",
       "3         Lvl    AllPub  ...        0    NaN   NaN         NaN       0      2   \n",
       "4         Lvl    AllPub  ...        0    NaN   NaN         NaN       0     12   \n",
       "\n",
       "  YrSold  SaleType  SaleCondition  SalePrice  \n",
       "0   2008        WD         Normal     208500  \n",
       "1   2007        WD         Normal     181500  \n",
       "2   2008        WD         Normal     223500  \n",
       "3   2006        WD        Abnorml     140000  \n",
       "4   2008        WD         Normal     250000  \n",
       "\n",
       "[5 rows x 81 columns]"
      ]
     },
     "execution_count": 6,
     "metadata": {},
     "output_type": "execute_result"
    }
   ],
   "source": [
    "df_train.head()"
   ]
  },
  {
   "cell_type": "code",
   "execution_count": 56,
   "metadata": {},
   "outputs": [
    {
     "data": {
      "image/png": "[encoded data removed]",
      "text/plain": [
       "<Figure size 648x648 with 2 Axes>"
      ]
     },
     "metadata": {
      "needs_background": "light"
     },
     "output_type": "display_data"
    }
   ],
   "source": [
    "corrmat = df_train.corr()\n",
    "top_corr_features = corrmat.index[abs(corrmat[\"SalePrice\"])>0.5]\n",
    "plt.figure(figsize=(9,9))\n",
    "g = sns.heatmap(df_train[top_corr_features].corr(),annot=True,cmap=\"RdYlGn\")"
   ]
  },
  {
   "cell_type": "code",
   "execution_count": 123,
   "metadata": {},
   "outputs": [
    {
     "data": {
      "text/plain": [
       "<AxesSubplot:xlabel='SalePrice', ylabel='Count'>"
      ]
     },
     "execution_count": 123,
     "metadata": {},
     "output_type": "execute_result"
    },
    {
     "data": {
      "image/png": "[encoded data removed]",
      "text/plain": [
       "<Figure size 432x288 with 1 Axes>"
      ]
     },
     "metadata": {
      "needs_background": "light"
     },
     "output_type": "display_data"
    }
   ],
   "source": [
    "sns.histplot(df_train['SalePrice'])\n",
    "#right skewed"
   ]
  },
  {
   "cell_type": "code",
   "execution_count": 124,
   "metadata": {},
   "outputs": [
    {
     "data": {
      "text/plain": [
       "<AxesSubplot:xlabel='SalePrice', ylabel='Count'>"
      ]
     },
     "execution_count": 124,
     "metadata": {},
     "output_type": "execute_result"
    },
    {
     "data": {
      "image/png": "[encoded data removed]",
      "text/plain": [
       "<Figure size 432x288 with 1 Axes>"
      ]
     },
     "metadata": {
      "needs_background": "light"
     },
     "output_type": "display_data"
    }
   ],
   "source": [
    "sns.histplot(np.log1p(df_train['SalePrice']))"
   ]
  },
  {
   "cell_type": "code",
   "execution_count": 125,
   "metadata": {},
   "outputs": [],
   "source": [
    "df_train[\"SalePrice\"] = np.log1p(df_train[\"SalePrice\"])"
   ]
  },
  {
   "cell_type": "code",
   "execution_count": 126,
   "metadata": {},
   "outputs": [
    {
     "data": {
      "text/plain": [
       "(1460,)"
      ]
     },
     "execution_count": 126,
     "metadata": {},
     "output_type": "execute_result"
    }
   ],
   "source": [
    "Sale_Price=df_train.iloc[:,80]\n",
    "Sale_Price.shape"
   ]
  },
  {
   "cell_type": "code",
   "execution_count": 127,
   "metadata": {},
   "outputs": [
    {
     "data": {
      "text/html": [
       "<div>\n",
       "<style scoped>\n",
       "    .dataframe tbody tr th:only-of-type {\n",
       "        vertical-align: middle;\n",
       "    }\n",
       "\n",
       "    .dataframe tbody tr th {\n",
       "        vertical-align: top;\n",
       "    }\n",
       "\n",
       "    .dataframe thead th {\n",
       "        text-align: right;\n",
       "    }\n",
       "</style>\n",
       "<table border=\"1\" class=\"dataframe\">\n",
       "  <thead>\n",
       "    <tr style=\"text-align: right;\">\n",
       "      <th></th>\n",
       "      <th>Id</th>\n",
       "      <th>MSSubClass</th>\n",
       "      <th>MSZoning</th>\n",
       "      <th>LotFrontage</th>\n",
       "      <th>LotArea</th>\n",
       "      <th>Street</th>\n",
       "      <th>Alley</th>\n",
       "      <th>LotShape</th>\n",
       "      <th>LandContour</th>\n",
       "      <th>Utilities</th>\n",
       "      <th>...</th>\n",
       "      <th>ScreenPorch</th>\n",
       "      <th>PoolArea</th>\n",
       "      <th>PoolQC</th>\n",
       "      <th>Fence</th>\n",
       "      <th>MiscFeature</th>\n",
       "      <th>MiscVal</th>\n",
       "      <th>MoSold</th>\n",
       "      <th>YrSold</th>\n",
       "      <th>SaleType</th>\n",
       "      <th>SaleCondition</th>\n",
       "    </tr>\n",
       "  </thead>\n",
       "  <tbody>\n",
       "    <tr>\n",
       "      <th>0</th>\n",
       "      <td>1</td>\n",
       "      <td>60</td>\n",
       "      <td>RL</td>\n",
       "      <td>65.0</td>\n",
       "      <td>8450</td>\n",
       "      <td>Pave</td>\n",
       "      <td>NaN</td>\n",
       "      <td>Reg</td>\n",
       "      <td>Lvl</td>\n",
       "      <td>AllPub</td>\n",
       "      <td>...</td>\n",
       "      <td>0</td>\n",
       "      <td>0</td>\n",
       "      <td>NaN</td>\n",
       "      <td>NaN</td>\n",
       "      <td>NaN</td>\n",
       "      <td>0</td>\n",
       "      <td>2</td>\n",
       "      <td>2008</td>\n",
       "      <td>WD</td>\n",
       "      <td>Normal</td>\n",
       "    </tr>\n",
       "    <tr>\n",
       "      <th>1</th>\n",
       "      <td>2</td>\n",
       "      <td>20</td>\n",
       "      <td>RL</td>\n",
       "      <td>80.0</td>\n",
       "      <td>9600</td>\n",
       "      <td>Pave</td>\n",
       "      <td>NaN</td>\n",
       "      <td>Reg</td>\n",
       "      <td>Lvl</td>\n",
       "      <td>AllPub</td>\n",
       "      <td>...</td>\n",
       "      <td>0</td>\n",
       "      <td>0</td>\n",
       "      <td>NaN</td>\n",
       "      <td>NaN</td>\n",
       "      <td>NaN</td>\n",
       "      <td>0</td>\n",
       "      <td>5</td>\n",
       "      <td>2007</td>\n",
       "      <td>WD</td>\n",
       "      <td>Normal</td>\n",
       "    </tr>\n",
       "    <tr>\n",
       "      <th>2</th>\n",
       "      <td>3</td>\n",
       "      <td>60</td>\n",
       "      <td>RL</td>\n",
       "      <td>68.0</td>\n",
       "      <td>11250</td>\n",
       "      <td>Pave</td>\n",
       "      <td>NaN</td>\n",
       "      <td>IR1</td>\n",
       "      <td>Lvl</td>\n",
       "      <td>AllPub</td>\n",
       "      <td>...</td>\n",
       "      <td>0</td>\n",
       "      <td>0</td>\n",
       "      <td>NaN</td>\n",
       "      <td>NaN</td>\n",
       "      <td>NaN</td>\n",
       "      <td>0</td>\n",
       "      <td>9</td>\n",
       "      <td>2008</td>\n",
       "      <td>WD</td>\n",
       "      <td>Normal</td>\n",
       "    </tr>\n",
       "    <tr>\n",
       "      <th>3</th>\n",
       "      <td>4</td>\n",
       "      <td>70</td>\n",
       "      <td>RL</td>\n",
       "      <td>60.0</td>\n",
       "      <td>9550</td>\n",
       "      <td>Pave</td>\n",
       "      <td>NaN</td>\n",
       "      <td>IR1</td>\n",
       "      <td>Lvl</td>\n",
       "      <td>AllPub</td>\n",
       "      <td>...</td>\n",
       "      <td>0</td>\n",
       "      <td>0</td>\n",
       "      <td>NaN</td>\n",
       "      <td>NaN</td>\n",
       "      <td>NaN</td>\n",
       "      <td>0</td>\n",
       "      <td>2</td>\n",
       "      <td>2006</td>\n",
       "      <td>WD</td>\n",
       "      <td>Abnorml</td>\n",
       "    </tr>\n",
       "    <tr>\n",
       "      <th>4</th>\n",
       "      <td>5</td>\n",
       "      <td>60</td>\n",
       "      <td>RL</td>\n",
       "      <td>84.0</td>\n",
       "      <td>14260</td>\n",
       "      <td>Pave</td>\n",
       "      <td>NaN</td>\n",
       "      <td>IR1</td>\n",
       "      <td>Lvl</td>\n",
       "      <td>AllPub</td>\n",
       "      <td>...</td>\n",
       "      <td>0</td>\n",
       "      <td>0</td>\n",
       "      <td>NaN</td>\n",
       "      <td>NaN</td>\n",
       "      <td>NaN</td>\n",
       "      <td>0</td>\n",
       "      <td>12</td>\n",
       "      <td>2008</td>\n",
       "      <td>WD</td>\n",
       "      <td>Normal</td>\n",
       "    </tr>\n",
       "  </tbody>\n",
       "</table>\n",
       "<p>5 rows × 80 columns</p>\n",
       "</div>"
      ],
      "text/plain": [
       "   Id  MSSubClass MSZoning  LotFrontage  LotArea Street Alley LotShape  \\\n",
       "0   1          60       RL         65.0     8450   Pave   NaN      Reg   \n",
       "1   2          20       RL         80.0     9600   Pave   NaN      Reg   \n",
       "2   3          60       RL         68.0    11250   Pave   NaN      IR1   \n",
       "3   4          70       RL         60.0     9550   Pave   NaN      IR1   \n",
       "4   5          60       RL         84.0    14260   Pave   NaN      IR1   \n",
       "\n",
       "  LandContour Utilities  ... ScreenPorch PoolArea PoolQC Fence MiscFeature  \\\n",
       "0         Lvl    AllPub  ...           0        0    NaN   NaN         NaN   \n",
       "1         Lvl    AllPub  ...           0        0    NaN   NaN         NaN   \n",
       "2         Lvl    AllPub  ...           0        0    NaN   NaN         NaN   \n",
       "3         Lvl    AllPub  ...           0        0    NaN   NaN         NaN   \n",
       "4         Lvl    AllPub  ...           0        0    NaN   NaN         NaN   \n",
       "\n",
       "  MiscVal MoSold  YrSold  SaleType  SaleCondition  \n",
       "0       0      2    2008        WD         Normal  \n",
       "1       0      5    2007        WD         Normal  \n",
       "2       0      9    2008        WD         Normal  \n",
       "3       0      2    2006        WD        Abnorml  \n",
       "4       0     12    2008        WD         Normal  \n",
       "\n",
       "[5 rows x 80 columns]"
      ]
     },
     "execution_count": 127,
     "metadata": {},
     "output_type": "execute_result"
    }
   ],
   "source": [
    "#droping SalePrice column\n",
    "df_train1=df_train.drop([\"SalePrice\"],axis=1)\n",
    "df_train1.head()"
   ]
  },
  {
   "cell_type": "code",
   "execution_count": 128,
   "metadata": {},
   "outputs": [],
   "source": [
    "# combining training & testing data for preposesing after that we do not write same code for test\n",
    "\n",
    "data= pd.concat([df_train1,df_test], keys=['x', 'y'])#here X is training data and Y testing data\n",
    "data=data.drop([\"Id\"],axis=1)"
   ]
  },
  {
   "cell_type": "code",
   "execution_count": 11,
   "metadata": {},
   "outputs": [
    {
     "data": {
      "text/html": [
       "<div>\n",
       "<style scoped>\n",
       "    .dataframe tbody tr th:only-of-type {\n",
       "        vertical-align: middle;\n",
       "    }\n",
       "\n",
       "    .dataframe tbody tr th {\n",
       "        vertical-align: top;\n",
       "    }\n",
       "\n",
       "    .dataframe thead th {\n",
       "        text-align: right;\n",
       "    }\n",
       "</style>\n",
       "<table border=\"1\" class=\"dataframe\">\n",
       "  <thead>\n",
       "    <tr style=\"text-align: right;\">\n",
       "      <th></th>\n",
       "      <th></th>\n",
       "      <th>MSSubClass</th>\n",
       "      <th>MSZoning</th>\n",
       "      <th>LotFrontage</th>\n",
       "      <th>LotArea</th>\n",
       "      <th>Street</th>\n",
       "      <th>Alley</th>\n",
       "      <th>LotShape</th>\n",
       "      <th>LandContour</th>\n",
       "      <th>Utilities</th>\n",
       "      <th>LotConfig</th>\n",
       "      <th>...</th>\n",
       "      <th>ScreenPorch</th>\n",
       "      <th>PoolArea</th>\n",
       "      <th>PoolQC</th>\n",
       "      <th>Fence</th>\n",
       "      <th>MiscFeature</th>\n",
       "      <th>MiscVal</th>\n",
       "      <th>MoSold</th>\n",
       "      <th>YrSold</th>\n",
       "      <th>SaleType</th>\n",
       "      <th>SaleCondition</th>\n",
       "    </tr>\n",
       "  </thead>\n",
       "  <tbody>\n",
       "    <tr>\n",
       "      <th rowspan=\"5\" valign=\"top\">x</th>\n",
       "      <th>0</th>\n",
       "      <td>60</td>\n",
       "      <td>RL</td>\n",
       "      <td>65.0</td>\n",
       "      <td>8450</td>\n",
       "      <td>Pave</td>\n",
       "      <td>NaN</td>\n",
       "      <td>Reg</td>\n",
       "      <td>Lvl</td>\n",
       "      <td>AllPub</td>\n",
       "      <td>Inside</td>\n",
       "      <td>...</td>\n",
       "      <td>0</td>\n",
       "      <td>0</td>\n",
       "      <td>NaN</td>\n",
       "      <td>NaN</td>\n",
       "      <td>NaN</td>\n",
       "      <td>0</td>\n",
       "      <td>2</td>\n",
       "      <td>2008</td>\n",
       "      <td>WD</td>\n",
       "      <td>Normal</td>\n",
       "    </tr>\n",
       "    <tr>\n",
       "      <th>1</th>\n",
       "      <td>20</td>\n",
       "      <td>RL</td>\n",
       "      <td>80.0</td>\n",
       "      <td>9600</td>\n",
       "      <td>Pave</td>\n",
       "      <td>NaN</td>\n",
       "      <td>Reg</td>\n",
       "      <td>Lvl</td>\n",
       "      <td>AllPub</td>\n",
       "      <td>FR2</td>\n",
       "      <td>...</td>\n",
       "      <td>0</td>\n",
       "      <td>0</td>\n",
       "      <td>NaN</td>\n",
       "      <td>NaN</td>\n",
       "      <td>NaN</td>\n",
       "      <td>0</td>\n",
       "      <td>5</td>\n",
       "      <td>2007</td>\n",
       "      <td>WD</td>\n",
       "      <td>Normal</td>\n",
       "    </tr>\n",
       "    <tr>\n",
       "      <th>2</th>\n",
       "      <td>60</td>\n",
       "      <td>RL</td>\n",
       "      <td>68.0</td>\n",
       "      <td>11250</td>\n",
       "      <td>Pave</td>\n",
       "      <td>NaN</td>\n",
       "      <td>IR1</td>\n",
       "      <td>Lvl</td>\n",
       "      <td>AllPub</td>\n",
       "      <td>Inside</td>\n",
       "      <td>...</td>\n",
       "      <td>0</td>\n",
       "      <td>0</td>\n",
       "      <td>NaN</td>\n",
       "      <td>NaN</td>\n",
       "      <td>NaN</td>\n",
       "      <td>0</td>\n",
       "      <td>9</td>\n",
       "      <td>2008</td>\n",
       "      <td>WD</td>\n",
       "      <td>Normal</td>\n",
       "    </tr>\n",
       "    <tr>\n",
       "      <th>3</th>\n",
       "      <td>70</td>\n",
       "      <td>RL</td>\n",
       "      <td>60.0</td>\n",
       "      <td>9550</td>\n",
       "      <td>Pave</td>\n",
       "      <td>NaN</td>\n",
       "      <td>IR1</td>\n",
       "      <td>Lvl</td>\n",
       "      <td>AllPub</td>\n",
       "      <td>Corner</td>\n",
       "      <td>...</td>\n",
       "      <td>0</td>\n",
       "      <td>0</td>\n",
       "      <td>NaN</td>\n",
       "      <td>NaN</td>\n",
       "      <td>NaN</td>\n",
       "      <td>0</td>\n",
       "      <td>2</td>\n",
       "      <td>2006</td>\n",
       "      <td>WD</td>\n",
       "      <td>Abnorml</td>\n",
       "    </tr>\n",
       "    <tr>\n",
       "      <th>4</th>\n",
       "      <td>60</td>\n",
       "      <td>RL</td>\n",
       "      <td>84.0</td>\n",
       "      <td>14260</td>\n",
       "      <td>Pave</td>\n",
       "      <td>NaN</td>\n",
       "      <td>IR1</td>\n",
       "      <td>Lvl</td>\n",
       "      <td>AllPub</td>\n",
       "      <td>FR2</td>\n",
       "      <td>...</td>\n",
       "      <td>0</td>\n",
       "      <td>0</td>\n",
       "      <td>NaN</td>\n",
       "      <td>NaN</td>\n",
       "      <td>NaN</td>\n",
       "      <td>0</td>\n",
       "      <td>12</td>\n",
       "      <td>2008</td>\n",
       "      <td>WD</td>\n",
       "      <td>Normal</td>\n",
       "    </tr>\n",
       "  </tbody>\n",
       "</table>\n",
       "<p>5 rows × 79 columns</p>\n",
       "</div>"
      ],
      "text/plain": [
       "     MSSubClass MSZoning  LotFrontage  LotArea Street Alley LotShape  \\\n",
       "x 0          60       RL         65.0     8450   Pave   NaN      Reg   \n",
       "  1          20       RL         80.0     9600   Pave   NaN      Reg   \n",
       "  2          60       RL         68.0    11250   Pave   NaN      IR1   \n",
       "  3          70       RL         60.0     9550   Pave   NaN      IR1   \n",
       "  4          60       RL         84.0    14260   Pave   NaN      IR1   \n",
       "\n",
       "    LandContour Utilities LotConfig  ... ScreenPorch PoolArea PoolQC Fence  \\\n",
       "x 0         Lvl    AllPub    Inside  ...           0        0    NaN   NaN   \n",
       "  1         Lvl    AllPub       FR2  ...           0        0    NaN   NaN   \n",
       "  2         Lvl    AllPub    Inside  ...           0        0    NaN   NaN   \n",
       "  3         Lvl    AllPub    Corner  ...           0        0    NaN   NaN   \n",
       "  4         Lvl    AllPub       FR2  ...           0        0    NaN   NaN   \n",
       "\n",
       "    MiscFeature MiscVal  MoSold  YrSold  SaleType  SaleCondition  \n",
       "x 0         NaN       0       2    2008        WD         Normal  \n",
       "  1         NaN       0       5    2007        WD         Normal  \n",
       "  2         NaN       0       9    2008        WD         Normal  \n",
       "  3         NaN       0       2    2006        WD        Abnorml  \n",
       "  4         NaN       0      12    2008        WD         Normal  \n",
       "\n",
       "[5 rows x 79 columns]"
      ]
     },
     "execution_count": 11,
     "metadata": {},
     "output_type": "execute_result"
    }
   ],
   "source": [
    "data.head()"
   ]
  },
  {
   "cell_type": "code",
   "execution_count": 12,
   "metadata": {},
   "outputs": [
    {
     "data": {
      "text/plain": [
       "(2919, 79)"
      ]
     },
     "execution_count": 12,
     "metadata": {},
     "output_type": "execute_result"
    }
   ],
   "source": [
    "data.shape"
   ]
  },
  {
   "cell_type": "code",
   "execution_count": null,
   "metadata": {},
   "outputs": [],
   "source": [
    "# Dealing with null values"
   ]
  },
  {
   "cell_type": "code",
   "execution_count": 129,
   "metadata": {},
   "outputs": [
    {
     "data": {
      "text/html": [
       "<div>\n",
       "<style scoped>\n",
       "    .dataframe tbody tr th:only-of-type {\n",
       "        vertical-align: middle;\n",
       "    }\n",
       "\n",
       "    .dataframe tbody tr th {\n",
       "        vertical-align: top;\n",
       "    }\n",
       "\n",
       "    .dataframe thead th {\n",
       "        text-align: right;\n",
       "    }\n",
       "</style>\n",
       "<table border=\"1\" class=\"dataframe\">\n",
       "  <thead>\n",
       "    <tr style=\"text-align: right;\">\n",
       "      <th></th>\n",
       "      <th>Total</th>\n",
       "      <th>Percentage</th>\n",
       "    </tr>\n",
       "  </thead>\n",
       "  <tbody>\n",
       "    <tr>\n",
       "      <th>PoolQC</th>\n",
       "      <td>2909</td>\n",
       "      <td>0.996574</td>\n",
       "    </tr>\n",
       "    <tr>\n",
       "      <th>MiscFeature</th>\n",
       "      <td>2814</td>\n",
       "      <td>0.964029</td>\n",
       "    </tr>\n",
       "    <tr>\n",
       "      <th>Alley</th>\n",
       "      <td>2721</td>\n",
       "      <td>0.932169</td>\n",
       "    </tr>\n",
       "    <tr>\n",
       "      <th>Fence</th>\n",
       "      <td>2348</td>\n",
       "      <td>0.804385</td>\n",
       "    </tr>\n",
       "    <tr>\n",
       "      <th>FireplaceQu</th>\n",
       "      <td>1420</td>\n",
       "      <td>0.486468</td>\n",
       "    </tr>\n",
       "    <tr>\n",
       "      <th>LotFrontage</th>\n",
       "      <td>486</td>\n",
       "      <td>0.166495</td>\n",
       "    </tr>\n",
       "    <tr>\n",
       "      <th>GarageCond</th>\n",
       "      <td>159</td>\n",
       "      <td>0.054471</td>\n",
       "    </tr>\n",
       "    <tr>\n",
       "      <th>GarageQual</th>\n",
       "      <td>159</td>\n",
       "      <td>0.054471</td>\n",
       "    </tr>\n",
       "    <tr>\n",
       "      <th>GarageYrBlt</th>\n",
       "      <td>159</td>\n",
       "      <td>0.054471</td>\n",
       "    </tr>\n",
       "    <tr>\n",
       "      <th>GarageFinish</th>\n",
       "      <td>159</td>\n",
       "      <td>0.054471</td>\n",
       "    </tr>\n",
       "    <tr>\n",
       "      <th>GarageType</th>\n",
       "      <td>157</td>\n",
       "      <td>0.053786</td>\n",
       "    </tr>\n",
       "    <tr>\n",
       "      <th>BsmtCond</th>\n",
       "      <td>82</td>\n",
       "      <td>0.028092</td>\n",
       "    </tr>\n",
       "    <tr>\n",
       "      <th>BsmtExposure</th>\n",
       "      <td>82</td>\n",
       "      <td>0.028092</td>\n",
       "    </tr>\n",
       "    <tr>\n",
       "      <th>BsmtQual</th>\n",
       "      <td>81</td>\n",
       "      <td>0.027749</td>\n",
       "    </tr>\n",
       "    <tr>\n",
       "      <th>BsmtFinType2</th>\n",
       "      <td>80</td>\n",
       "      <td>0.027407</td>\n",
       "    </tr>\n",
       "    <tr>\n",
       "      <th>BsmtFinType1</th>\n",
       "      <td>79</td>\n",
       "      <td>0.027064</td>\n",
       "    </tr>\n",
       "    <tr>\n",
       "      <th>MasVnrType</th>\n",
       "      <td>24</td>\n",
       "      <td>0.008222</td>\n",
       "    </tr>\n",
       "    <tr>\n",
       "      <th>MasVnrArea</th>\n",
       "      <td>23</td>\n",
       "      <td>0.007879</td>\n",
       "    </tr>\n",
       "    <tr>\n",
       "      <th>MSZoning</th>\n",
       "      <td>4</td>\n",
       "      <td>0.001370</td>\n",
       "    </tr>\n",
       "    <tr>\n",
       "      <th>BsmtHalfBath</th>\n",
       "      <td>2</td>\n",
       "      <td>0.000685</td>\n",
       "    </tr>\n",
       "  </tbody>\n",
       "</table>\n",
       "</div>"
      ],
      "text/plain": [
       "              Total  Percentage\n",
       "PoolQC         2909    0.996574\n",
       "MiscFeature    2814    0.964029\n",
       "Alley          2721    0.932169\n",
       "Fence          2348    0.804385\n",
       "FireplaceQu    1420    0.486468\n",
       "LotFrontage     486    0.166495\n",
       "GarageCond      159    0.054471\n",
       "GarageQual      159    0.054471\n",
       "GarageYrBlt     159    0.054471\n",
       "GarageFinish    159    0.054471\n",
       "GarageType      157    0.053786\n",
       "BsmtCond         82    0.028092\n",
       "BsmtExposure     82    0.028092\n",
       "BsmtQual         81    0.027749\n",
       "BsmtFinType2     80    0.027407\n",
       "BsmtFinType1     79    0.027064\n",
       "MasVnrType       24    0.008222\n",
       "MasVnrArea       23    0.007879\n",
       "MSZoning          4    0.001370\n",
       "BsmtHalfBath      2    0.000685"
      ]
     },
     "execution_count": 129,
     "metadata": {},
     "output_type": "execute_result"
    }
   ],
   "source": [
    "total_null = data.isnull().sum().sort_values(ascending=False) #First sum and order all null values for each variable\n",
    "percentage = (data.isnull().sum()/data.isnull().count()).sort_values(ascending=False) #Get the percentage\n",
    "missing_data = pd.concat([total_null, percentage], axis=1, keys=['Total', 'Percentage'])\n",
    "missing_data.head(20)"
   ]
  },
  {
   "cell_type": "code",
   "execution_count": 130,
   "metadata": {},
   "outputs": [
    {
     "data": {
      "text/plain": [
       "BsmtCond        82\n",
       "BsmtExposure    82\n",
       "BsmtQual        81\n",
       "BsmtFinType2    80\n",
       "BsmtFinType1    79\n",
       "                ..\n",
       "2ndFlrSF         0\n",
       "1stFlrSF         0\n",
       "CentralAir       0\n",
       "HeatingQC        0\n",
       "MSSubClass       0\n",
       "Length: 68, dtype: int64"
      ]
     },
     "execution_count": 130,
     "metadata": {},
     "output_type": "execute_result"
    }
   ],
   "source": [
    "data = data.drop((missing_data[missing_data[\"Percentage\"] > 0.05]).index,1) \n",
    "\n",
    "data.isnull().sum().sort_values(ascending=False)"
   ]
  },
  {
   "cell_type": "code",
   "execution_count": 131,
   "metadata": {},
   "outputs": [
    {
     "data": {
      "text/plain": [
       "['MSSubClass',\n",
       " 'LotArea',\n",
       " 'OverallQual',\n",
       " 'OverallCond',\n",
       " 'YearBuilt',\n",
       " 'YearRemodAdd',\n",
       " 'MasVnrArea',\n",
       " 'BsmtFinSF1',\n",
       " 'BsmtFinSF2',\n",
       " 'BsmtUnfSF',\n",
       " 'TotalBsmtSF',\n",
       " '1stFlrSF',\n",
       " '2ndFlrSF',\n",
       " 'LowQualFinSF',\n",
       " 'GrLivArea',\n",
       " 'BsmtFullBath',\n",
       " 'BsmtHalfBath',\n",
       " 'FullBath',\n",
       " 'HalfBath',\n",
       " 'BedroomAbvGr',\n",
       " 'KitchenAbvGr',\n",
       " 'TotRmsAbvGrd',\n",
       " 'Fireplaces',\n",
       " 'GarageCars',\n",
       " 'GarageArea',\n",
       " 'WoodDeckSF',\n",
       " 'OpenPorchSF',\n",
       " 'EnclosedPorch',\n",
       " '3SsnPorch',\n",
       " 'ScreenPorch',\n",
       " 'PoolArea',\n",
       " 'MiscVal',\n",
       " 'MoSold',\n",
       " 'YrSold']"
      ]
     },
     "execution_count": 131,
     "metadata": {},
     "output_type": "execute_result"
    }
   ],
   "source": [
    "num_col=data._get_numeric_data().columns.tolist()\n",
    "num_col"
   ]
  },
  {
   "cell_type": "code",
   "execution_count": 132,
   "metadata": {},
   "outputs": [
    {
     "data": {
      "text/plain": [
       "{'BldgType',\n",
       " 'BsmtCond',\n",
       " 'BsmtExposure',\n",
       " 'BsmtFinType1',\n",
       " 'BsmtFinType2',\n",
       " 'BsmtQual',\n",
       " 'CentralAir',\n",
       " 'Condition1',\n",
       " 'Condition2',\n",
       " 'Electrical',\n",
       " 'ExterCond',\n",
       " 'ExterQual',\n",
       " 'Exterior1st',\n",
       " 'Exterior2nd',\n",
       " 'Foundation',\n",
       " 'Functional',\n",
       " 'Heating',\n",
       " 'HeatingQC',\n",
       " 'HouseStyle',\n",
       " 'KitchenQual',\n",
       " 'LandContour',\n",
       " 'LandSlope',\n",
       " 'LotConfig',\n",
       " 'LotShape',\n",
       " 'MSZoning',\n",
       " 'MasVnrType',\n",
       " 'Neighborhood',\n",
       " 'PavedDrive',\n",
       " 'RoofMatl',\n",
       " 'RoofStyle',\n",
       " 'SaleCondition',\n",
       " 'SaleType',\n",
       " 'Street',\n",
       " 'Utilities'}"
      ]
     },
     "execution_count": 132,
     "metadata": {},
     "output_type": "execute_result"
    }
   ],
   "source": [
    "cat_col=set(data.columns)-set(num_col)\n",
    "cat_col"
   ]
  },
  {
   "cell_type": "code",
   "execution_count": 133,
   "metadata": {},
   "outputs": [],
   "source": [
    "for col in num_col:\n",
    "    data[col].fillna(data[col].mean(),inplace=True)"
   ]
  },
  {
   "cell_type": "code",
   "execution_count": 134,
   "metadata": {},
   "outputs": [],
   "source": [
    "for col in cat_col:\n",
    "    data[col].fillna(data[col].mode()[0],inplace=True)"
   ]
  },
  {
   "cell_type": "code",
   "execution_count": 135,
   "metadata": {},
   "outputs": [
    {
     "data": {
      "text/plain": [
       "0"
      ]
     },
     "execution_count": 135,
     "metadata": {},
     "output_type": "execute_result"
    }
   ],
   "source": [
    "data.isnull().sum().max()"
   ]
  },
  {
   "cell_type": "code",
   "execution_count": 29,
   "metadata": {},
   "outputs": [
    {
     "name": "stdout",
     "output_type": "stream",
     "text": [
      "PConc     1308\n",
      "CBlock    1235\n",
      "BrkTil     311\n",
      "Slab        49\n",
      "Stone       11\n",
      "Wood         5\n",
      "Name: Foundation, dtype: int64\n",
      "Normal     2402\n",
      "Partial     245\n",
      "Abnorml     190\n",
      "Family       46\n",
      "Alloca       24\n",
      "AdjLand      12\n",
      "Name: SaleCondition, dtype: int64\n",
      "RL         2269\n",
      "RM          460\n",
      "FV          139\n",
      "RH           26\n",
      "C (all)      25\n",
      "Name: MSZoning, dtype: int64\n",
      "VinylSd    1026\n",
      "MetalSd     450\n",
      "HdBoard     442\n",
      "Wd Sdng     411\n",
      "Plywood     221\n",
      "CemntBd     126\n",
      "BrkFace      87\n",
      "WdShing      56\n",
      "AsbShng      44\n",
      "Stucco       43\n",
      "BrkComm       6\n",
      "AsphShn       2\n",
      "CBlock        2\n",
      "Stone         2\n",
      "ImStucc       1\n",
      "Name: Exterior1st, dtype: int64\n",
      "Unf    930\n",
      "GLQ    849\n",
      "ALQ    429\n",
      "Rec    288\n",
      "BLQ    269\n",
      "LwQ    154\n",
      "Name: BsmtFinType1, dtype: int64\n",
      "Y    2641\n",
      "N     216\n",
      "P      62\n",
      "Name: PavedDrive, dtype: int64\n",
      "Lvl    2622\n",
      "HLS     120\n",
      "Bnk     117\n",
      "Low      60\n",
      "Name: LandContour, dtype: int64\n",
      "WD       2526\n",
      "New       239\n",
      "COD        87\n",
      "ConLD      26\n",
      "CWD        12\n",
      "ConLI       9\n",
      "ConLw       8\n",
      "Oth         7\n",
      "Con         5\n",
      "Name: SaleType, dtype: int64\n",
      "GasA     2874\n",
      "GasW       27\n",
      "Grav        9\n",
      "Wall        6\n",
      "OthW        2\n",
      "Floor       1\n",
      "Name: Heating, dtype: int64\n",
      "TA    1364\n",
      "Gd    1209\n",
      "Ex     258\n",
      "Fa      88\n",
      "Name: BsmtQual, dtype: int64\n",
      "CompShg    2876\n",
      "Tar&Grv      23\n",
      "WdShake       9\n",
      "WdShngl       7\n",
      "ClyTile       1\n",
      "Roll          1\n",
      "Metal         1\n",
      "Membran       1\n",
      "Name: RoofMatl, dtype: int64\n",
      "TA    2688\n",
      "Gd     122\n",
      "Fa     104\n",
      "Po       5\n",
      "Name: BsmtCond, dtype: int64\n",
      "1Story    1471\n",
      "2Story     872\n",
      "1.5Fin     314\n",
      "SLvl       128\n",
      "SFoyer      83\n",
      "2.5Unf      24\n",
      "1.5Unf      19\n",
      "2.5Fin       8\n",
      "Name: HouseStyle, dtype: int64\n",
      "TA    1493\n",
      "Gd    1151\n",
      "Ex     205\n",
      "Fa      70\n",
      "Name: KitchenQual, dtype: int64\n",
      "NAmes      443\n",
      "CollgCr    267\n",
      "OldTown    239\n",
      "Edwards    194\n",
      "Somerst    182\n",
      "NridgHt    166\n",
      "Gilbert    165\n",
      "Sawyer     151\n",
      "NWAmes     131\n",
      "SawyerW    125\n",
      "Mitchel    114\n",
      "BrkSide    108\n",
      "Crawfor    103\n",
      "IDOTRR      93\n",
      "Timber      72\n",
      "NoRidge     71\n",
      "StoneBr     51\n",
      "SWISU       48\n",
      "ClearCr     44\n",
      "MeadowV     37\n",
      "BrDale      30\n",
      "Blmngtn     28\n",
      "Veenker     24\n",
      "NPkVill     23\n",
      "Blueste     10\n",
      "Name: Neighborhood, dtype: int64\n",
      "Norm      2511\n",
      "Feedr      164\n",
      "Artery      92\n",
      "RRAn        50\n",
      "PosN        39\n",
      "RRAe        28\n",
      "PosA        20\n",
      "RRNn         9\n",
      "RRNe         6\n",
      "Name: Condition1, dtype: int64\n",
      "AllPub    2918\n",
      "NoSeWa       1\n",
      "Name: Utilities, dtype: int64\n",
      "None       1766\n",
      "BrkFace     879\n",
      "Stone       249\n",
      "BrkCmn       25\n",
      "Name: MasVnrType, dtype: int64\n",
      "TA    2538\n",
      "Gd     299\n",
      "Fa      67\n",
      "Ex      12\n",
      "Po       3\n",
      "Name: ExterCond, dtype: int64\n",
      "Gable      2310\n",
      "Hip         551\n",
      "Gambrel      22\n",
      "Flat         20\n",
      "Mansard      11\n",
      "Shed          5\n",
      "Name: RoofStyle, dtype: int64\n",
      "Inside     2133\n",
      "Corner      511\n",
      "CulDSac     176\n",
      "FR2          85\n",
      "FR3          14\n",
      "Name: LotConfig, dtype: int64\n",
      "TA    1798\n",
      "Gd     979\n",
      "Ex     107\n",
      "Fa      35\n",
      "Name: ExterQual, dtype: int64\n",
      "Unf    2573\n",
      "Rec     105\n",
      "LwQ      87\n",
      "BLQ      68\n",
      "ALQ      52\n",
      "GLQ      34\n",
      "Name: BsmtFinType2, dtype: int64\n",
      "Ex    1493\n",
      "TA     857\n",
      "Gd     474\n",
      "Fa      92\n",
      "Po       3\n",
      "Name: HeatingQC, dtype: int64\n",
      "Pave    2907\n",
      "Grvl      12\n",
      "Name: Street, dtype: int64\n",
      "SBrkr    2672\n",
      "FuseA     188\n",
      "FuseF      50\n",
      "FuseP       8\n",
      "Mix         1\n",
      "Name: Electrical, dtype: int64\n",
      "Y    2723\n",
      "N     196\n",
      "Name: CentralAir, dtype: int64\n",
      "Norm      2889\n",
      "Feedr       13\n",
      "Artery       5\n",
      "PosA         4\n",
      "PosN         4\n",
      "RRNn         2\n",
      "RRAe         1\n",
      "RRAn         1\n",
      "Name: Condition2, dtype: int64\n",
      "1Fam      2425\n",
      "TwnhsE     227\n",
      "Duplex     109\n",
      "Twnhs       96\n",
      "2fmCon      62\n",
      "Name: BldgType, dtype: int64\n",
      "Gtl    2778\n",
      "Mod     125\n",
      "Sev      16\n",
      "Name: LandSlope, dtype: int64\n",
      "Reg    1859\n",
      "IR1     968\n",
      "IR2      76\n",
      "IR3      16\n",
      "Name: LotShape, dtype: int64\n",
      "Typ     2719\n",
      "Min2      70\n",
      "Min1      65\n",
      "Mod       35\n",
      "Maj1      19\n",
      "Maj2       9\n",
      "Sev        2\n",
      "Name: Functional, dtype: int64\n",
      "No    1986\n",
      "Av     418\n",
      "Gd     276\n",
      "Mn     239\n",
      "Name: BsmtExposure, dtype: int64\n",
      "VinylSd    1015\n",
      "MetalSd     447\n",
      "HdBoard     406\n",
      "Wd Sdng     391\n",
      "Plywood     270\n",
      "CmentBd     126\n",
      "Wd Shng      81\n",
      "Stucco       47\n",
      "BrkFace      47\n",
      "AsbShng      38\n",
      "Brk Cmn      22\n",
      "ImStucc      15\n",
      "Stone         6\n",
      "AsphShn       4\n",
      "CBlock        3\n",
      "Other         1\n",
      "Name: Exterior2nd, dtype: int64\n"
     ]
    }
   ],
   "source": [
    "#count total value in every catgorical feature\n",
    "for i in cat_col:\n",
    "    print(data[i].value_counts())"
   ]
  },
  {
   "cell_type": "code",
   "execution_count": 34,
   "metadata": {},
   "outputs": [
    {
     "name": "stdout",
     "output_type": "stream",
     "text": [
      "20     1079\n",
      "60      575\n",
      "50      287\n",
      "120     182\n",
      "30      139\n",
      "160     128\n",
      "70      128\n",
      "80      118\n",
      "90      109\n",
      "190      61\n",
      "85       48\n",
      "75       23\n",
      "45       18\n",
      "180      17\n",
      "40        6\n",
      "150       1\n",
      "Name: MSSubClass, dtype: int64\n",
      "9600     44\n",
      "7200     43\n",
      "6000     34\n",
      "9000     29\n",
      "10800    25\n",
      "         ..\n",
      "12867     1\n",
      "2628      1\n",
      "8775      1\n",
      "13478     1\n",
      "12292     1\n",
      "Name: LotArea, Length: 1951, dtype: int64\n",
      "5     825\n",
      "6     731\n",
      "7     600\n",
      "8     342\n",
      "4     226\n",
      "9     107\n",
      "3      40\n",
      "10     31\n",
      "2      13\n",
      "1       4\n",
      "Name: OverallQual, dtype: int64\n",
      "5    1645\n",
      "6     531\n",
      "7     390\n",
      "8     144\n",
      "4     101\n",
      "3      50\n",
      "9      41\n",
      "2      10\n",
      "1       7\n",
      "Name: OverallCond, dtype: int64\n",
      "2005    142\n",
      "2006    138\n",
      "2007    109\n",
      "2004     99\n",
      "2003     88\n",
      "       ... \n",
      "1911      1\n",
      "1875      1\n",
      "1879      1\n",
      "1893      1\n",
      "1872      1\n",
      "Name: YearBuilt, Length: 118, dtype: int64\n",
      "1950    361\n",
      "2006    202\n",
      "2007    164\n",
      "2005    141\n",
      "2004    111\n",
      "       ... \n",
      "2010     13\n",
      "1981     12\n",
      "1986     12\n",
      "1983     11\n",
      "1982      9\n",
      "Name: YearRemodAdd, Length: 61, dtype: int64\n",
      "0.000000      1738\n",
      "102.201312      23\n",
      "120.000000      15\n",
      "200.000000      13\n",
      "176.000000      13\n",
      "              ... \n",
      "664.000000       1\n",
      "247.000000       1\n",
      "550.000000       1\n",
      "137.000000       1\n",
      "724.000000       1\n",
      "Name: MasVnrArea, Length: 445, dtype: int64\n",
      "0.0       929\n",
      "24.0       27\n",
      "16.0       14\n",
      "300.0       9\n",
      "288.0       8\n",
      "         ... \n",
      "1122.0      1\n",
      "1022.0      1\n",
      "939.0       1\n",
      "1124.0      1\n",
      "883.0       1\n",
      "Name: BsmtFinSF1, Length: 992, dtype: int64\n",
      "0.0      2571\n",
      "294.0       5\n",
      "180.0       5\n",
      "483.0       3\n",
      "162.0       3\n",
      "         ... \n",
      "196.0       1\n",
      "904.0       1\n",
      "456.0       1\n",
      "624.0       1\n",
      "823.0       1\n",
      "Name: BsmtFinSF2, Length: 273, dtype: int64\n",
      "0.0       241\n",
      "384.0      19\n",
      "728.0      14\n",
      "672.0      13\n",
      "600.0      12\n",
      "         ... \n",
      "445.0       1\n",
      "958.0       1\n",
      "1559.0      1\n",
      "532.0       1\n",
      "1369.0      1\n",
      "Name: BsmtUnfSF, Length: 1136, dtype: int64\n",
      "0.0       78\n",
      "864.0     74\n",
      "672.0     29\n",
      "912.0     26\n",
      "1040.0    25\n",
      "          ..\n",
      "1231.0     1\n",
      "1829.0     1\n",
      "1475.0     1\n",
      "396.0      1\n",
      "1243.0     1\n",
      "Name: TotalBsmtSF, Length: 1059, dtype: int64\n",
      "864     46\n",
      "1040    28\n",
      "912     19\n",
      "848     18\n",
      "960     18\n",
      "        ..\n",
      "2084     1\n",
      "2076     1\n",
      "2064     1\n",
      "2048     1\n",
      "2053     1\n",
      "Name: 1stFlrSF, Length: 1083, dtype: int64\n",
      "0       1668\n",
      "546       23\n",
      "728       18\n",
      "504       17\n",
      "672       13\n",
      "        ... \n",
      "1036       1\n",
      "1038       1\n",
      "1042       1\n",
      "1048       1\n",
      "1721       1\n",
      "Name: 2ndFlrSF, Length: 635, dtype: int64\n",
      "0       2879\n",
      "80         4\n",
      "205        2\n",
      "360        2\n",
      "390        1\n",
      "384        1\n",
      "362        1\n",
      "312        1\n",
      "234        1\n",
      "232        1\n",
      "420        1\n",
      "156        1\n",
      "144        1\n",
      "140        1\n",
      "120        1\n",
      "114        1\n",
      "108        1\n",
      "392        1\n",
      "697        1\n",
      "515        1\n",
      "371        1\n",
      "513        1\n",
      "481        1\n",
      "479        1\n",
      "473        1\n",
      "431        1\n",
      "397        1\n",
      "259        1\n",
      "450        1\n",
      "53         1\n",
      "1064       1\n",
      "572        1\n",
      "528        1\n",
      "514        1\n",
      "512        1\n",
      "436        1\n",
      "Name: LowQualFinSF, dtype: int64\n",
      "864     41\n",
      "1092    26\n",
      "1040    25\n",
      "1456    20\n",
      "1200    18\n",
      "        ..\n",
      "2402     1\n",
      "2400     1\n",
      "2398     1\n",
      "2380     1\n",
      "2049     1\n",
      "Name: GrLivArea, Length: 1292, dtype: int64\n",
      "0.000000    1705\n",
      "1.000000    1172\n",
      "2.000000      38\n",
      "0.429894       2\n",
      "3.000000       2\n",
      "Name: BsmtFullBath, dtype: int64\n",
      "0.000000    2742\n",
      "1.000000     171\n",
      "2.000000       4\n",
      "0.061364       2\n",
      "Name: BsmtHalfBath, dtype: int64\n",
      "2    1530\n",
      "1    1309\n",
      "3      64\n",
      "0      12\n",
      "4       4\n",
      "Name: FullBath, dtype: int64\n",
      "0    1834\n",
      "1    1060\n",
      "2      25\n",
      "Name: HalfBath, dtype: int64\n",
      "3    1596\n",
      "2     742\n",
      "4     400\n",
      "1     103\n",
      "5      48\n",
      "6      21\n",
      "0       8\n",
      "8       1\n",
      "Name: BedroomAbvGr, dtype: int64\n",
      "1    2785\n",
      "2     129\n",
      "0       3\n",
      "3       2\n",
      "Name: KitchenAbvGr, dtype: int64\n",
      "6     844\n",
      "7     649\n",
      "5     583\n",
      "8     347\n",
      "4     196\n",
      "9     143\n",
      "10     80\n",
      "11     32\n",
      "3      25\n",
      "12     16\n",
      "15      1\n",
      "13      1\n",
      "14      1\n",
      "2       1\n",
      "Name: TotRmsAbvGrd, dtype: int64\n",
      "0    1420\n",
      "1    1268\n",
      "2     219\n",
      "3      11\n",
      "4       1\n",
      "Name: Fireplaces, dtype: int64\n",
      "2.000000    1594\n",
      "1.000000     776\n",
      "3.000000     374\n",
      "0.000000     157\n",
      "4.000000      16\n",
      "1.766621       1\n",
      "5.000000       1\n",
      "Name: GarageCars, dtype: int64\n",
      "0.0      157\n",
      "576.0     97\n",
      "440.0     96\n",
      "240.0     69\n",
      "484.0     68\n",
      "        ... \n",
      "443.0      1\n",
      "424.0      1\n",
      "263.0      1\n",
      "962.0      1\n",
      "803.0      1\n",
      "Name: GarageArea, Length: 604, dtype: int64\n",
      "0      1523\n",
      "100      74\n",
      "192      70\n",
      "144      61\n",
      "168      56\n",
      "       ... \n",
      "95        1\n",
      "97        1\n",
      "99        1\n",
      "274       1\n",
      "857       1\n",
      "Name: WoodDeckSF, Length: 379, dtype: int64\n",
      "0      1298\n",
      "36       52\n",
      "48       51\n",
      "40       44\n",
      "32       38\n",
      "       ... \n",
      "368       1\n",
      "364       1\n",
      "324       1\n",
      "292       1\n",
      "288       1\n",
      "Name: OpenPorchSF, Length: 252, dtype: int64\n",
      "0      2460\n",
      "112      22\n",
      "96       13\n",
      "144      11\n",
      "192      10\n",
      "       ... \n",
      "334       1\n",
      "330       1\n",
      "324       1\n",
      "318       1\n",
      "238       1\n",
      "Name: EnclosedPorch, Length: 183, dtype: int64\n",
      "0      2882\n",
      "153       3\n",
      "168       3\n",
      "144       2\n",
      "180       2\n",
      "216       2\n",
      "219       1\n",
      "176       1\n",
      "86        1\n",
      "96        1\n",
      "120       1\n",
      "130       1\n",
      "140       1\n",
      "255       1\n",
      "150       1\n",
      "162       1\n",
      "245       1\n",
      "174       1\n",
      "225       1\n",
      "23        1\n",
      "182       1\n",
      "196       1\n",
      "323       1\n",
      "224       1\n",
      "238       1\n",
      "290       1\n",
      "304       1\n",
      "320       1\n",
      "360       1\n",
      "508       1\n",
      "407       1\n",
      "Name: 3SsnPorch, dtype: int64\n",
      "0      2663\n",
      "144      13\n",
      "192      11\n",
      "168      10\n",
      "120       9\n",
      "       ... \n",
      "490       1\n",
      "576       1\n",
      "53        1\n",
      "63        1\n",
      "264       1\n",
      "Name: ScreenPorch, Length: 121, dtype: int64\n",
      "0      2906\n",
      "561       1\n",
      "555       1\n",
      "519       1\n",
      "800       1\n",
      "738       1\n",
      "648       1\n",
      "576       1\n",
      "512       1\n",
      "480       1\n",
      "444       1\n",
      "368       1\n",
      "228       1\n",
      "144       1\n",
      "Name: PoolArea, dtype: int64\n",
      "0        2816\n",
      "400        18\n",
      "500        13\n",
      "450         9\n",
      "600         8\n",
      "700         7\n",
      "2000        7\n",
      "650         3\n",
      "1200        3\n",
      "1500        3\n",
      "4500        2\n",
      "2500        2\n",
      "480         2\n",
      "3000        2\n",
      "12500       1\n",
      "300         1\n",
      "350         1\n",
      "8300        1\n",
      "420         1\n",
      "80          1\n",
      "54          1\n",
      "460         1\n",
      "490         1\n",
      "3500        1\n",
      "560         1\n",
      "17000       1\n",
      "15500       1\n",
      "750         1\n",
      "800         1\n",
      "900         1\n",
      "1000        1\n",
      "1150        1\n",
      "1300        1\n",
      "1400        1\n",
      "1512        1\n",
      "6500        1\n",
      "455         1\n",
      "620         1\n",
      "Name: MiscVal, dtype: int64\n",
      "6     503\n",
      "7     446\n",
      "5     394\n",
      "4     279\n",
      "8     233\n",
      "3     232\n",
      "10    173\n",
      "9     158\n",
      "11    142\n",
      "2     133\n",
      "1     122\n",
      "12    104\n",
      "Name: MoSold, dtype: int64\n",
      "2007    692\n",
      "2009    647\n",
      "2008    622\n",
      "2006    619\n",
      "2010    339\n",
      "Name: YrSold, dtype: int64\n"
     ]
    }
   ],
   "source": [
    "#count total value in every numerical feature\n",
    "for i in num_col:\n",
    "    print(data[i].value_counts())"
   ]
  },
  {
   "cell_type": "code",
   "execution_count": 136,
   "metadata": {},
   "outputs": [],
   "source": [
    "df=data.drop([\"RoofMatl\",\"Heating\",\"Condition2\",\"BsmtCond\",\"SaleType\",\n",
    "                \"CentralAir\",\"Functional\",\"Electrical\",\"LandSlope\",\"ExterCond\",\"Condition1\",\n",
    "               \"GarageArea\",\"BsmtUnfSF\",\"3SsnPorch\",\"MiscVal\",\"PoolArea\",\"ScreenPorch\",\"KitchenAbvGr\",\"BsmtHalfBath\",\"LowQualFinSF\"],axis=1) "
   ]
  },
  {
   "cell_type": "code",
   "execution_count": 101,
   "metadata": {},
   "outputs": [
    {
     "data": {
      "text/plain": [
       "(2919, 48)"
      ]
     },
     "execution_count": 101,
     "metadata": {},
     "output_type": "execute_result"
    }
   ],
   "source": [
    "df.shape"
   ]
  },
  {
   "cell_type": "code",
   "execution_count": 137,
   "metadata": {},
   "outputs": [],
   "source": [
    "df=df.drop([\"Utilities\",\"PavedDrive\"],axis=1)"
   ]
  },
  {
   "cell_type": "code",
   "execution_count": 103,
   "metadata": {},
   "outputs": [
    {
     "data": {
      "text/plain": [
       "Index(['MSSubClass', 'MSZoning', 'LotArea', 'Street', 'LotShape',\n",
       "       'LandContour', 'LotConfig', 'Neighborhood', 'BldgType', 'HouseStyle',\n",
       "       'OverallQual', 'OverallCond', 'YearBuilt', 'YearRemodAdd', 'RoofStyle',\n",
       "       'Exterior1st', 'Exterior2nd', 'MasVnrType', 'MasVnrArea', 'ExterQual',\n",
       "       'Foundation', 'BsmtQual', 'BsmtExposure', 'BsmtFinType1', 'BsmtFinSF1',\n",
       "       'BsmtFinType2', 'BsmtFinSF2', 'TotalBsmtSF', 'HeatingQC', '1stFlrSF',\n",
       "       '2ndFlrSF', 'GrLivArea', 'BsmtFullBath', 'FullBath', 'HalfBath',\n",
       "       'BedroomAbvGr', 'KitchenQual', 'TotRmsAbvGrd', 'Fireplaces',\n",
       "       'GarageCars', 'WoodDeckSF', 'OpenPorchSF', 'EnclosedPorch', 'MoSold',\n",
       "       'YrSold', 'SaleCondition'],\n",
       "      dtype='object')"
      ]
     },
     "execution_count": 103,
     "metadata": {},
     "output_type": "execute_result"
    }
   ],
   "source": [
    "df.columns"
   ]
  },
  {
   "cell_type": "code",
   "execution_count": 138,
   "metadata": {},
   "outputs": [
    {
     "data": {
      "text/plain": [
       "(2919, 46)"
      ]
     },
     "execution_count": 138,
     "metadata": {},
     "output_type": "execute_result"
    }
   ],
   "source": [
    "df.shape"
   ]
  },
  {
   "cell_type": "code",
   "execution_count": 139,
   "metadata": {},
   "outputs": [
    {
     "data": {
      "image/png": "[encoded data removed]",
      "text/plain": [
       "<Figure size 432x288 with 1 Axes>"
      ]
     },
     "metadata": {
      "needs_background": "light"
     },
     "output_type": "display_data"
    },
    {
     "data": {
      "image/png": "[encoded data removed]",
      "text/plain": [
       "<Figure size 432x288 with 1 Axes>"
      ]
     },
     "metadata": {
      "needs_background": "light"
     },
     "output_type": "display_data"
    },
    {
     "data": {
      "image/png": "[encoded data removed]",
      "text/plain": [
       "<Figure size 432x288 with 1 Axes>"
      ]
     },
     "metadata": {
      "needs_background": "light"
     },
     "output_type": "display_data"
    },
    {
     "data": {
      "image/png": "[encoded data removed]",
      "text/plain": [
       "<Figure size 432x288 with 1 Axes>"
      ]
     },
     "metadata": {
      "needs_background": "light"
     },
     "output_type": "display_data"
    },
    {
     "data": {
      "image/png": "[encoded data removed]",
      "text/plain": [
       "<Figure size 432x288 with 1 Axes>"
      ]
     },
     "metadata": {
      "needs_background": "light"
     },
     "output_type": "display_data"
    },
    {
     "data": {
      "image/png": "[encoded data removed]",
      "text/plain": [
       "<Figure size 432x288 with 1 Axes>"
      ]
     },
     "metadata": {
      "needs_background": "light"
     },
     "output_type": "display_data"
    },
    {
     "data": {
      "image/png": "[encoded data removed]",
      "text/plain": [
       "<Figure size 432x288 with 1 Axes>"
      ]
     },
     "metadata": {
      "needs_background": "light"
     },
     "output_type": "display_data"
    },
    {
     "data": {
      "image/png": "[encoded data removed]",
      "text/plain": [
       "<Figure size 432x288 with 1 Axes>"
      ]
     },
     "metadata": {
      "needs_background": "light"
     },
     "output_type": "display_data"
    },
    {
     "data": {
      "image/png": "[encoded data removed]",
      "text/plain": [
       "<Figure size 432x288 with 1 Axes>"
      ]
     },
     "metadata": {
      "needs_background": "light"
     },
     "output_type": "display_data"
    },
    {
     "data": {
      "image/png": "[encoded data removed]",
      "text/plain": [
       "<Figure size 432x288 with 1 Axes>"
      ]
     },
     "metadata": {
      "needs_background": "light"
     },
     "output_type": "display_data"
    },
    {
     "data": {
      "image/png": "[encoded data removed]",
      "text/plain": [
       "<Figure size 432x288 with 1 Axes>"
      ]
     },
     "metadata": {
      "needs_background": "light"
     },
     "output_type": "display_data"
    },
    {
     "data": {
      "image/png": "[encoded data removed]",
      "text/plain": [
       "<Figure size 432x288 with 1 Axes>"
      ]
     },
     "metadata": {
      "needs_background": "light"
     },
     "output_type": "display_data"
    },
    {
     "data": {
      "image/png": "[encoded data removed]",
      "text/plain": [
       "<Figure size 432x288 with 1 Axes>"
      ]
     },
     "metadata": {
      "needs_background": "light"
     },
     "output_type": "display_data"
    },
    {
     "data": {
      "image/png": "[encoded data removed]",
      "text/plain": [
       "<Figure size 432x288 with 1 Axes>"
      ]
     },
     "metadata": {
      "needs_background": "light"
     },
     "output_type": "display_data"
    },
    {
     "data": {
      "image/png": "[encoded data removed]",
      "text/plain": [
       "<Figure size 432x288 with 1 Axes>"
      ]
     },
     "metadata": {
      "needs_background": "light"
     },
     "output_type": "display_data"
    },
    {
     "data": {
      "image/png": "[encoded data removed]",
      "text/plain": [
       "<Figure size 432x288 with 1 Axes>"
      ]
     },
     "metadata": {
      "needs_background": "light"
     },
     "output_type": "display_data"
    },
    {
     "data": {
      "image/png": "[encoded data removed]",
      "text/plain": [
       "<Figure size 432x288 with 1 Axes>"
      ]
     },
     "metadata": {
      "needs_background": "light"
     },
     "output_type": "display_data"
    },
    {
     "data": {
      "image/png": "[encoded data removed]",
      "text/plain": [
       "<Figure size 432x288 with 1 Axes>"
      ]
     },
     "metadata": {
      "needs_background": "light"
     },
     "output_type": "display_data"
    },
    {
     "data": {
      "image/png": "[encoded data removed]",
      "text/plain": [
       "<Figure size 432x288 with 1 Axes>"
      ]
     },
     "metadata": {
      "needs_background": "light"
     },
     "output_type": "display_data"
    },
    {
     "data": {
      "image/png": "[encoded data removed]",
      "text/plain": [
       "<Figure size 432x288 with 1 Axes>"
      ]
     },
     "metadata": {
      "needs_background": "light"
     },
     "output_type": "display_data"
    },
    {
     "data": {
      "image/png": "[encoded data removed]",
      "text/plain": [
       "<Figure size 432x288 with 1 Axes>"
      ]
     },
     "metadata": {
      "needs_background": "light"
     },
     "output_type": "display_data"
    },
    {
     "data": {
      "image/png": "[encoded data removed]",
      "text/plain": [
       "<Figure size 432x288 with 1 Axes>"
      ]
     },
     "metadata": {
      "needs_background": "light"
     },
     "output_type": "display_data"
    },
    {
     "data": {
      "image/png": "[encoded data removed]",
      "text/plain": [
       "<Figure size 432x288 with 1 Axes>"
      ]
     },
     "metadata": {
      "needs_background": "light"
     },
     "output_type": "display_data"
    },
    {
     "data": {
      "image/png": "[encoded data removed]",
      "text/plain": [
       "<Figure size 432x288 with 1 Axes>"
      ]
     },
     "metadata": {
      "needs_background": "light"
     },
     "output_type": "display_data"
    },
    {
     "data": {
      "image/png": "[encoded data removed]",
      "text/plain": [
       "<Figure size 432x288 with 1 Axes>"
      ]
     },
     "metadata": {
      "needs_background": "light"
     },
     "output_type": "display_data"
    }
   ],
   "source": [
    "n_features = df.select_dtypes(exclude = [\"object\"]).columns\n",
    "#there are many outliers\n",
    "for i in df[n_features]:\n",
    "    sns.boxplot(x=df[i])\n",
    "    plt.show()"
   ]
  },
  {
   "cell_type": "code",
   "execution_count": 140,
   "metadata": {},
   "outputs": [],
   "source": [
    "def mod_outlier(df):\n",
    "        df1 = df.copy()\n",
    "        df = df._get_numeric_data()\n",
    "\n",
    "\n",
    "        q1 = df.quantile(0.25)\n",
    "        q3 = df.quantile(0.75)\n",
    "\n",
    "        iqr = q3 - q1\n",
    "\n",
    "        lower_bound = q1 -(1.5 * iqr) \n",
    "        upper_bound = q3 +(1.5 * iqr)\n",
    "\n",
    "\n",
    "        for col in df.columns:\n",
    "            for i in range(0,len(df[col])):\n",
    "                if df[col][i] < lower_bound[col]:            \n",
    "                    df[col][i] = lower_bound[col]\n",
    "\n",
    "                if df[col][i] > upper_bound[col]:            \n",
    "                    df[col][i] = upper_bound[col]    \n",
    "\n",
    "\n",
    "        for col in df.columns:\n",
    "            df1[col] = df[col]\n",
    "\n",
    "        return(df1)\n",
    "\n",
    "df = mod_outlier(df)"
   ]
  },
  {
   "cell_type": "code",
   "execution_count": 141,
   "metadata": {},
   "outputs": [
    {
     "data": {
      "image/png": "[encoded data removed]",
      "text/plain": [
       "<Figure size 432x288 with 1 Axes>"
      ]
     },
     "metadata": {
      "needs_background": "light"
     },
     "output_type": "display_data"
    },
    {
     "data": {
      "image/png": "[encoded data removed]",
      "text/plain": [
       "<Figure size 432x288 with 1 Axes>"
      ]
     },
     "metadata": {
      "needs_background": "light"
     },
     "output_type": "display_data"
    },
    {
     "data": {
      "image/png": "[encoded data removed]",
      "text/plain": [
       "<Figure size 432x288 with 1 Axes>"
      ]
     },
     "metadata": {
      "needs_background": "light"
     },
     "output_type": "display_data"
    },
    {
     "data": {
      "image/png": "[encoded data removed]",
      "text/plain": [
       "<Figure size 432x288 with 1 Axes>"
      ]
     },
     "metadata": {
      "needs_background": "light"
     },
     "output_type": "display_data"
    },
    {
     "data": {
      "image/png": "[encoded data removed]",
      "text/plain": [
       "<Figure size 432x288 with 1 Axes>"
      ]
     },
     "metadata": {
      "needs_background": "light"
     },
     "output_type": "display_data"
    },
    {
     "data": {
      "image/png": "[encoded data removed]",
      "text/plain": [
       "<Figure size 432x288 with 1 Axes>"
      ]
     },
     "metadata": {
      "needs_background": "light"
     },
     "output_type": "display_data"
    },
    {
     "data": {
      "image/png": "[encoded data removed]",
      "text/plain": [
       "<Figure size 432x288 with 1 Axes>"
      ]
     },
     "metadata": {
      "needs_background": "light"
     },
     "output_type": "display_data"
    },
    {
     "data": {
      "image/png": "[encoded data removed]",
      "text/plain": [
       "<Figure size 432x288 with 1 Axes>"
      ]
     },
     "metadata": {
      "needs_background": "light"
     },
     "output_type": "display_data"
    },
    {
     "data": {
      "image/png": "[encoded data removed]",
      "text/plain": [
       "<Figure size 432x288 with 1 Axes>"
      ]
     },
     "metadata": {
      "needs_background": "light"
     },
     "output_type": "display_data"
    },
    {
     "data": {
      "image/png": "[encoded data removed]",
      "text/plain": [
       "<Figure size 432x288 with 1 Axes>"
      ]
     },
     "metadata": {
      "needs_background": "light"
     },
     "output_type": "display_data"
    },
    {
     "data": {
      "image/png": "[encoded data removed]",
      "text/plain": [
       "<Figure size 432x288 with 1 Axes>"
      ]
     },
     "metadata": {
      "needs_background": "light"
     },
     "output_type": "display_data"
    },
    {
     "data": {
      "image/png": "[encoded data removed]",
      "text/plain": [
       "<Figure size 432x288 with 1 Axes>"
      ]
     },
     "metadata": {
      "needs_background": "light"
     },
     "output_type": "display_data"
    },
    {
     "data": {
      "image/png": "[encoded data removed]",
      "text/plain": [
       "<Figure size 432x288 with 1 Axes>"
      ]
     },
     "metadata": {
      "needs_background": "light"
     },
     "output_type": "display_data"
    },
    {
     "data": {
      "image/png": "[encoded data removed]",
      "text/plain": [
       "<Figure size 432x288 with 1 Axes>"
      ]
     },
     "metadata": {
      "needs_background": "light"
     },
     "output_type": "display_data"
    },
    {
     "data": {
      "image/png": "[encoded data removed]",
      "text/plain": [
       "<Figure size 432x288 with 1 Axes>"
      ]
     },
     "metadata": {
      "needs_background": "light"
     },
     "output_type": "display_data"
    },
    {
     "data": {
      "image/png": "[encoded data removed]",
      "text/plain": [
       "<Figure size 432x288 with 1 Axes>"
      ]
     },
     "metadata": {
      "needs_background": "light"
     },
     "output_type": "display_data"
    },
    {
     "data": {
      "image/png": "[encoded data removed]",
      "text/plain": [
       "<Figure size 432x288 with 1 Axes>"
      ]
     },
     "metadata": {
      "needs_background": "light"
     },
     "output_type": "display_data"
    },
    {
     "data": {
      "image/png": "[encoded data removed]",
      "text/plain": [
       "<Figure size 432x288 with 1 Axes>"
      ]
     },
     "metadata": {
      "needs_background": "light"
     },
     "output_type": "display_data"
    },
    {
     "data": {
      "image/png": "[encoded data removed]",
      "text/plain": [
       "<Figure size 432x288 with 1 Axes>"
      ]
     },
     "metadata": {
      "needs_background": "light"
     },
     "output_type": "display_data"
    },
    {
     "data": {
      "image/png": "[encoded data removed]",
      "text/plain": [
       "<Figure size 432x288 with 1 Axes>"
      ]
     },
     "metadata": {
      "needs_background": "light"
     },
     "output_type": "display_data"
    },
    {
     "data": {
      "image/png": "[encoded data removed]",
      "text/plain": [
       "<Figure size 432x288 with 1 Axes>"
      ]
     },
     "metadata": {
      "needs_background": "light"
     },
     "output_type": "display_data"
    },
    {
     "data": {
      "image/png": "[encoded data removed]",
      "text/plain": [
       "<Figure size 432x288 with 1 Axes>"
      ]
     },
     "metadata": {
      "needs_background": "light"
     },
     "output_type": "display_data"
    },
    {
     "data": {
      "image/png": "[encoded data removed]",
      "text/plain": [
       "<Figure size 432x288 with 1 Axes>"
      ]
     },
     "metadata": {
      "needs_background": "light"
     },
     "output_type": "display_data"
    },
    {
     "data": {
      "image/png": "[encoded data removed]",
      "text/plain": [
       "<Figure size 432x288 with 1 Axes>"
      ]
     },
     "metadata": {
      "needs_background": "light"
     },
     "output_type": "display_data"
    },
    {
     "data": {
      "image/png": "[encoded data removed]",
      "text/plain": [
       "<Figure size 432x288 with 1 Axes>"
      ]
     },
     "metadata": {
      "needs_background": "light"
     },
     "output_type": "display_data"
    }
   ],
   "source": [
    "#after removal\n",
    "for i in df[n_features]:\n",
    "    sns.boxplot(x=df[i])\n",
    "    plt.show()"
   ]
  },
  {
   "cell_type": "code",
   "execution_count": 106,
   "metadata": {},
   "outputs": [
    {
     "data": {
      "text/html": [
       "<div>\n",
       "<style scoped>\n",
       "    .dataframe tbody tr th:only-of-type {\n",
       "        vertical-align: middle;\n",
       "    }\n",
       "\n",
       "    .dataframe tbody tr th {\n",
       "        vertical-align: top;\n",
       "    }\n",
       "\n",
       "    .dataframe thead th {\n",
       "        text-align: right;\n",
       "    }\n",
       "</style>\n",
       "<table border=\"1\" class=\"dataframe\">\n",
       "  <thead>\n",
       "    <tr style=\"text-align: right;\">\n",
       "      <th></th>\n",
       "      <th></th>\n",
       "      <th>MSSubClass</th>\n",
       "      <th>MSZoning</th>\n",
       "      <th>LotArea</th>\n",
       "      <th>Street</th>\n",
       "      <th>LotShape</th>\n",
       "      <th>LandContour</th>\n",
       "      <th>LotConfig</th>\n",
       "      <th>Neighborhood</th>\n",
       "      <th>BldgType</th>\n",
       "      <th>HouseStyle</th>\n",
       "      <th>...</th>\n",
       "      <th>KitchenQual</th>\n",
       "      <th>TotRmsAbvGrd</th>\n",
       "      <th>Fireplaces</th>\n",
       "      <th>GarageCars</th>\n",
       "      <th>WoodDeckSF</th>\n",
       "      <th>OpenPorchSF</th>\n",
       "      <th>EnclosedPorch</th>\n",
       "      <th>MoSold</th>\n",
       "      <th>YrSold</th>\n",
       "      <th>SaleCondition</th>\n",
       "    </tr>\n",
       "  </thead>\n",
       "  <tbody>\n",
       "    <tr>\n",
       "      <th rowspan=\"5\" valign=\"top\">x</th>\n",
       "      <th>0</th>\n",
       "      <td>60</td>\n",
       "      <td>RL</td>\n",
       "      <td>8450</td>\n",
       "      <td>Pave</td>\n",
       "      <td>Reg</td>\n",
       "      <td>Lvl</td>\n",
       "      <td>Inside</td>\n",
       "      <td>CollgCr</td>\n",
       "      <td>1Fam</td>\n",
       "      <td>2Story</td>\n",
       "      <td>...</td>\n",
       "      <td>Gd</td>\n",
       "      <td>8</td>\n",
       "      <td>0</td>\n",
       "      <td>2.0</td>\n",
       "      <td>0</td>\n",
       "      <td>61</td>\n",
       "      <td>0</td>\n",
       "      <td>2</td>\n",
       "      <td>2008</td>\n",
       "      <td>Normal</td>\n",
       "    </tr>\n",
       "    <tr>\n",
       "      <th>1</th>\n",
       "      <td>20</td>\n",
       "      <td>RL</td>\n",
       "      <td>9600</td>\n",
       "      <td>Pave</td>\n",
       "      <td>Reg</td>\n",
       "      <td>Lvl</td>\n",
       "      <td>FR2</td>\n",
       "      <td>Veenker</td>\n",
       "      <td>1Fam</td>\n",
       "      <td>1Story</td>\n",
       "      <td>...</td>\n",
       "      <td>TA</td>\n",
       "      <td>6</td>\n",
       "      <td>1</td>\n",
       "      <td>2.0</td>\n",
       "      <td>298</td>\n",
       "      <td>0</td>\n",
       "      <td>0</td>\n",
       "      <td>5</td>\n",
       "      <td>2007</td>\n",
       "      <td>Normal</td>\n",
       "    </tr>\n",
       "    <tr>\n",
       "      <th>2</th>\n",
       "      <td>60</td>\n",
       "      <td>RL</td>\n",
       "      <td>11250</td>\n",
       "      <td>Pave</td>\n",
       "      <td>IR1</td>\n",
       "      <td>Lvl</td>\n",
       "      <td>Inside</td>\n",
       "      <td>CollgCr</td>\n",
       "      <td>1Fam</td>\n",
       "      <td>2Story</td>\n",
       "      <td>...</td>\n",
       "      <td>Gd</td>\n",
       "      <td>6</td>\n",
       "      <td>1</td>\n",
       "      <td>2.0</td>\n",
       "      <td>0</td>\n",
       "      <td>42</td>\n",
       "      <td>0</td>\n",
       "      <td>9</td>\n",
       "      <td>2008</td>\n",
       "      <td>Normal</td>\n",
       "    </tr>\n",
       "    <tr>\n",
       "      <th>3</th>\n",
       "      <td>70</td>\n",
       "      <td>RL</td>\n",
       "      <td>9550</td>\n",
       "      <td>Pave</td>\n",
       "      <td>IR1</td>\n",
       "      <td>Lvl</td>\n",
       "      <td>Corner</td>\n",
       "      <td>Crawfor</td>\n",
       "      <td>1Fam</td>\n",
       "      <td>2Story</td>\n",
       "      <td>...</td>\n",
       "      <td>Gd</td>\n",
       "      <td>7</td>\n",
       "      <td>1</td>\n",
       "      <td>3.0</td>\n",
       "      <td>0</td>\n",
       "      <td>35</td>\n",
       "      <td>0</td>\n",
       "      <td>2</td>\n",
       "      <td>2006</td>\n",
       "      <td>Abnorml</td>\n",
       "    </tr>\n",
       "    <tr>\n",
       "      <th>4</th>\n",
       "      <td>60</td>\n",
       "      <td>RL</td>\n",
       "      <td>14260</td>\n",
       "      <td>Pave</td>\n",
       "      <td>IR1</td>\n",
       "      <td>Lvl</td>\n",
       "      <td>FR2</td>\n",
       "      <td>NoRidge</td>\n",
       "      <td>1Fam</td>\n",
       "      <td>2Story</td>\n",
       "      <td>...</td>\n",
       "      <td>Gd</td>\n",
       "      <td>9</td>\n",
       "      <td>1</td>\n",
       "      <td>3.0</td>\n",
       "      <td>192</td>\n",
       "      <td>84</td>\n",
       "      <td>0</td>\n",
       "      <td>12</td>\n",
       "      <td>2008</td>\n",
       "      <td>Normal</td>\n",
       "    </tr>\n",
       "  </tbody>\n",
       "</table>\n",
       "<p>5 rows × 46 columns</p>\n",
       "</div>"
      ],
      "text/plain": [
       "     MSSubClass MSZoning  LotArea Street LotShape LandContour LotConfig  \\\n",
       "x 0          60       RL     8450   Pave      Reg         Lvl    Inside   \n",
       "  1          20       RL     9600   Pave      Reg         Lvl       FR2   \n",
       "  2          60       RL    11250   Pave      IR1         Lvl    Inside   \n",
       "  3          70       RL     9550   Pave      IR1         Lvl    Corner   \n",
       "  4          60       RL    14260   Pave      IR1         Lvl       FR2   \n",
       "\n",
       "    Neighborhood BldgType HouseStyle  ...  KitchenQual  TotRmsAbvGrd  \\\n",
       "x 0      CollgCr     1Fam     2Story  ...           Gd             8   \n",
       "  1      Veenker     1Fam     1Story  ...           TA             6   \n",
       "  2      CollgCr     1Fam     2Story  ...           Gd             6   \n",
       "  3      Crawfor     1Fam     2Story  ...           Gd             7   \n",
       "  4      NoRidge     1Fam     2Story  ...           Gd             9   \n",
       "\n",
       "     Fireplaces  GarageCars WoodDeckSF OpenPorchSF EnclosedPorch MoSold  \\\n",
       "x 0           0         2.0          0          61             0      2   \n",
       "  1           1         2.0        298           0             0      5   \n",
       "  2           1         2.0          0          42             0      9   \n",
       "  3           1         3.0          0          35             0      2   \n",
       "  4           1         3.0        192          84             0     12   \n",
       "\n",
       "     YrSold SaleCondition  \n",
       "x 0    2008        Normal  \n",
       "  1    2007        Normal  \n",
       "  2    2008        Normal  \n",
       "  3    2006       Abnorml  \n",
       "  4    2008        Normal  \n",
       "\n",
       "[5 rows x 46 columns]"
      ]
     },
     "execution_count": 106,
     "metadata": {},
     "output_type": "execute_result"
    }
   ],
   "source": [
    "df.head()"
   ]
  },
  {
   "cell_type": "code",
   "execution_count": 107,
   "metadata": {},
   "outputs": [
    {
     "data": {
      "text/plain": [
       "(2919, 169)"
      ]
     },
     "execution_count": 107,
     "metadata": {},
     "output_type": "execute_result"
    }
   ],
   "source": [
    "X=pd.get_dummies(df)\n",
    "X.shape"
   ]
  },
  {
   "cell_type": "code",
   "execution_count": 108,
   "metadata": {},
   "outputs": [],
   "source": [
    "from sklearn.preprocessing import StandardScaler\n",
    "Scaler = StandardScaler()\n",
    "\n",
    "X = pd.DataFrame(Scaler.fit_transform(X))"
   ]
  },
  {
   "cell_type": "code",
   "execution_count": 109,
   "metadata": {},
   "outputs": [
    {
     "data": {
      "text/html": [
       "<div>\n",
       "<style scoped>\n",
       "    .dataframe tbody tr th:only-of-type {\n",
       "        vertical-align: middle;\n",
       "    }\n",
       "\n",
       "    .dataframe tbody tr th {\n",
       "        vertical-align: top;\n",
       "    }\n",
       "\n",
       "    .dataframe thead th {\n",
       "        text-align: right;\n",
       "    }\n",
       "</style>\n",
       "<table border=\"1\" class=\"dataframe\">\n",
       "  <thead>\n",
       "    <tr style=\"text-align: right;\">\n",
       "      <th></th>\n",
       "      <th>0</th>\n",
       "      <th>1</th>\n",
       "      <th>2</th>\n",
       "      <th>3</th>\n",
       "      <th>4</th>\n",
       "      <th>5</th>\n",
       "      <th>6</th>\n",
       "      <th>7</th>\n",
       "      <th>8</th>\n",
       "      <th>9</th>\n",
       "      <th>...</th>\n",
       "      <th>159</th>\n",
       "      <th>160</th>\n",
       "      <th>161</th>\n",
       "      <th>162</th>\n",
       "      <th>163</th>\n",
       "      <th>164</th>\n",
       "      <th>165</th>\n",
       "      <th>166</th>\n",
       "      <th>167</th>\n",
       "      <th>168</th>\n",
       "    </tr>\n",
       "  </thead>\n",
       "  <tbody>\n",
       "    <tr>\n",
       "      <th>0</th>\n",
       "      <td>0.123492</td>\n",
       "      <td>-0.311935</td>\n",
       "      <td>0.647263</td>\n",
       "      <td>-0.537035</td>\n",
       "      <td>1.047001</td>\n",
       "      <td>0.896833</td>\n",
       "      <td>0.806978</td>\n",
       "      <td>0.611502</td>\n",
       "      <td>0.0</td>\n",
       "      <td>-0.464496</td>\n",
       "      <td>...</td>\n",
       "      <td>-0.274835</td>\n",
       "      <td>-0.156748</td>\n",
       "      <td>1.239377</td>\n",
       "      <td>-1.023223</td>\n",
       "      <td>-0.263861</td>\n",
       "      <td>-0.064249</td>\n",
       "      <td>-0.09105</td>\n",
       "      <td>-0.126535</td>\n",
       "      <td>0.463937</td>\n",
       "      <td>-0.302693</td>\n",
       "    </tr>\n",
       "    <tr>\n",
       "      <th>1</th>\n",
       "      <td>-0.935170</td>\n",
       "      <td>0.006504</td>\n",
       "      <td>-0.064361</td>\n",
       "      <td>1.631161</td>\n",
       "      <td>0.154585</td>\n",
       "      <td>-0.395604</td>\n",
       "      <td>-0.666160</td>\n",
       "      <td>1.232759</td>\n",
       "      <td>0.0</td>\n",
       "      <td>0.531031</td>\n",
       "      <td>...</td>\n",
       "      <td>-0.274835</td>\n",
       "      <td>-0.156748</td>\n",
       "      <td>-0.806857</td>\n",
       "      <td>0.977304</td>\n",
       "      <td>-0.263861</td>\n",
       "      <td>-0.064249</td>\n",
       "      <td>-0.09105</td>\n",
       "      <td>-0.126535</td>\n",
       "      <td>0.463937</td>\n",
       "      <td>-0.302693</td>\n",
       "    </tr>\n",
       "    <tr>\n",
       "      <th>2</th>\n",
       "      <td>0.123492</td>\n",
       "      <td>0.463393</td>\n",
       "      <td>0.647263</td>\n",
       "      <td>-0.537035</td>\n",
       "      <td>0.980896</td>\n",
       "      <td>0.848965</td>\n",
       "      <td>0.551434</td>\n",
       "      <td>0.109015</td>\n",
       "      <td>0.0</td>\n",
       "      <td>-0.307565</td>\n",
       "      <td>...</td>\n",
       "      <td>-0.274835</td>\n",
       "      <td>-0.156748</td>\n",
       "      <td>1.239377</td>\n",
       "      <td>-1.023223</td>\n",
       "      <td>-0.263861</td>\n",
       "      <td>-0.064249</td>\n",
       "      <td>-0.09105</td>\n",
       "      <td>-0.126535</td>\n",
       "      <td>0.463937</td>\n",
       "      <td>-0.302693</td>\n",
       "    </tr>\n",
       "    <tr>\n",
       "      <th>3</th>\n",
       "      <td>0.388158</td>\n",
       "      <td>-0.007341</td>\n",
       "      <td>0.647263</td>\n",
       "      <td>-0.537035</td>\n",
       "      <td>-1.861616</td>\n",
       "      <td>-0.682812</td>\n",
       "      <td>-0.666160</td>\n",
       "      <td>-0.507674</td>\n",
       "      <td>0.0</td>\n",
       "      <td>-0.709699</td>\n",
       "      <td>...</td>\n",
       "      <td>-0.274835</td>\n",
       "      <td>-0.156748</td>\n",
       "      <td>1.239377</td>\n",
       "      <td>-1.023223</td>\n",
       "      <td>3.789876</td>\n",
       "      <td>-0.064249</td>\n",
       "      <td>-0.09105</td>\n",
       "      <td>-0.126535</td>\n",
       "      <td>-2.155466</td>\n",
       "      <td>-0.302693</td>\n",
       "    </tr>\n",
       "    <tr>\n",
       "      <th>4</th>\n",
       "      <td>0.123492</td>\n",
       "      <td>1.296871</td>\n",
       "      <td>1.358887</td>\n",
       "      <td>-0.537035</td>\n",
       "      <td>0.947844</td>\n",
       "      <td>0.753229</td>\n",
       "      <td>1.964443</td>\n",
       "      <td>0.495016</td>\n",
       "      <td>0.0</td>\n",
       "      <td>0.244143</td>\n",
       "      <td>...</td>\n",
       "      <td>-0.274835</td>\n",
       "      <td>-0.156748</td>\n",
       "      <td>1.239377</td>\n",
       "      <td>-1.023223</td>\n",
       "      <td>-0.263861</td>\n",
       "      <td>-0.064249</td>\n",
       "      <td>-0.09105</td>\n",
       "      <td>-0.126535</td>\n",
       "      <td>0.463937</td>\n",
       "      <td>-0.302693</td>\n",
       "    </tr>\n",
       "    <tr>\n",
       "      <th>...</th>\n",
       "      <td>...</td>\n",
       "      <td>...</td>\n",
       "      <td>...</td>\n",
       "      <td>...</td>\n",
       "      <td>...</td>\n",
       "      <td>...</td>\n",
       "      <td>...</td>\n",
       "      <td>...</td>\n",
       "      <td>...</td>\n",
       "      <td>...</td>\n",
       "      <td>...</td>\n",
       "      <td>...</td>\n",
       "      <td>...</td>\n",
       "      <td>...</td>\n",
       "      <td>...</td>\n",
       "      <td>...</td>\n",
       "      <td>...</td>\n",
       "      <td>...</td>\n",
       "      <td>...</td>\n",
       "      <td>...</td>\n",
       "      <td>...</td>\n",
       "    </tr>\n",
       "    <tr>\n",
       "      <th>2914</th>\n",
       "      <td>2.373150</td>\n",
       "      <td>-2.115680</td>\n",
       "      <td>-1.487608</td>\n",
       "      <td>1.631161</td>\n",
       "      <td>-0.043730</td>\n",
       "      <td>-0.682812</td>\n",
       "      <td>-0.666160</td>\n",
       "      <td>-1.001025</td>\n",
       "      <td>0.0</td>\n",
       "      <td>-1.224627</td>\n",
       "      <td>...</td>\n",
       "      <td>-0.274835</td>\n",
       "      <td>-0.156748</td>\n",
       "      <td>-0.806857</td>\n",
       "      <td>0.977304</td>\n",
       "      <td>-0.263861</td>\n",
       "      <td>-0.064249</td>\n",
       "      <td>-0.09105</td>\n",
       "      <td>-0.126535</td>\n",
       "      <td>0.463937</td>\n",
       "      <td>-0.302693</td>\n",
       "    </tr>\n",
       "    <tr>\n",
       "      <th>2915</th>\n",
       "      <td>2.373150</td>\n",
       "      <td>-2.127310</td>\n",
       "      <td>-1.487608</td>\n",
       "      <td>-0.537035</td>\n",
       "      <td>-0.043730</td>\n",
       "      <td>-0.682812</td>\n",
       "      <td>-0.666160</td>\n",
       "      <td>-0.425449</td>\n",
       "      <td>0.0</td>\n",
       "      <td>-1.224627</td>\n",
       "      <td>...</td>\n",
       "      <td>-0.274835</td>\n",
       "      <td>-0.156748</td>\n",
       "      <td>-0.806857</td>\n",
       "      <td>0.977304</td>\n",
       "      <td>3.789876</td>\n",
       "      <td>-0.064249</td>\n",
       "      <td>-0.09105</td>\n",
       "      <td>-0.126535</td>\n",
       "      <td>-2.155466</td>\n",
       "      <td>-0.302693</td>\n",
       "    </tr>\n",
       "    <tr>\n",
       "      <th>2916</th>\n",
       "      <td>-0.935170</td>\n",
       "      <td>2.251632</td>\n",
       "      <td>-0.775984</td>\n",
       "      <td>1.631161</td>\n",
       "      <td>-0.374255</td>\n",
       "      <td>0.561757</td>\n",
       "      <td>-0.666160</td>\n",
       "      <td>1.794631</td>\n",
       "      <td>0.0</td>\n",
       "      <td>0.437854</td>\n",
       "      <td>...</td>\n",
       "      <td>-0.274835</td>\n",
       "      <td>-0.156748</td>\n",
       "      <td>-0.806857</td>\n",
       "      <td>0.977304</td>\n",
       "      <td>3.789876</td>\n",
       "      <td>-0.064249</td>\n",
       "      <td>-0.09105</td>\n",
       "      <td>-0.126535</td>\n",
       "      <td>-2.155466</td>\n",
       "      <td>-0.302693</td>\n",
       "    </tr>\n",
       "    <tr>\n",
       "      <th>2917</th>\n",
       "      <td>0.785157</td>\n",
       "      <td>0.239379</td>\n",
       "      <td>-0.775984</td>\n",
       "      <td>-0.537035</td>\n",
       "      <td>0.683424</td>\n",
       "      <td>0.370284</td>\n",
       "      <td>-0.666160</td>\n",
       "      <td>-0.231306</td>\n",
       "      <td>0.0</td>\n",
       "      <td>-0.327182</td>\n",
       "      <td>...</td>\n",
       "      <td>-0.274835</td>\n",
       "      <td>-0.156748</td>\n",
       "      <td>-0.806857</td>\n",
       "      <td>0.977304</td>\n",
       "      <td>-0.263861</td>\n",
       "      <td>-0.064249</td>\n",
       "      <td>-0.09105</td>\n",
       "      <td>-0.126535</td>\n",
       "      <td>0.463937</td>\n",
       "      <td>-0.302693</td>\n",
       "    </tr>\n",
       "    <tr>\n",
       "      <th>2918</th>\n",
       "      <td>0.123492</td>\n",
       "      <td>0.013980</td>\n",
       "      <td>0.647263</td>\n",
       "      <td>-0.537035</td>\n",
       "      <td>0.716477</td>\n",
       "      <td>0.466021</td>\n",
       "      <td>0.040345</td>\n",
       "      <td>0.730272</td>\n",
       "      <td>0.0</td>\n",
       "      <td>-0.121211</td>\n",
       "      <td>...</td>\n",
       "      <td>-0.274835</td>\n",
       "      <td>-0.156748</td>\n",
       "      <td>-0.806857</td>\n",
       "      <td>0.977304</td>\n",
       "      <td>-0.263861</td>\n",
       "      <td>-0.064249</td>\n",
       "      <td>-0.09105</td>\n",
       "      <td>-0.126535</td>\n",
       "      <td>0.463937</td>\n",
       "      <td>-0.302693</td>\n",
       "    </tr>\n",
       "  </tbody>\n",
       "</table>\n",
       "<p>2919 rows × 169 columns</p>\n",
       "</div>"
      ],
      "text/plain": [
       "           0         1         2         3         4         5         6    \\\n",
       "0     0.123492 -0.311935  0.647263 -0.537035  1.047001  0.896833  0.806978   \n",
       "1    -0.935170  0.006504 -0.064361  1.631161  0.154585 -0.395604 -0.666160   \n",
       "2     0.123492  0.463393  0.647263 -0.537035  0.980896  0.848965  0.551434   \n",
       "3     0.388158 -0.007341  0.647263 -0.537035 -1.861616 -0.682812 -0.666160   \n",
       "4     0.123492  1.296871  1.358887 -0.537035  0.947844  0.753229  1.964443   \n",
       "...        ...       ...       ...       ...       ...       ...       ...   \n",
       "2914  2.373150 -2.115680 -1.487608  1.631161 -0.043730 -0.682812 -0.666160   \n",
       "2915  2.373150 -2.127310 -1.487608 -0.537035 -0.043730 -0.682812 -0.666160   \n",
       "2916 -0.935170  2.251632 -0.775984  1.631161 -0.374255  0.561757 -0.666160   \n",
       "2917  0.785157  0.239379 -0.775984 -0.537035  0.683424  0.370284 -0.666160   \n",
       "2918  0.123492  0.013980  0.647263 -0.537035  0.716477  0.466021  0.040345   \n",
       "\n",
       "           7    8         9    ...       159       160       161       162  \\\n",
       "0     0.611502  0.0 -0.464496  ... -0.274835 -0.156748  1.239377 -1.023223   \n",
       "1     1.232759  0.0  0.531031  ... -0.274835 -0.156748 -0.806857  0.977304   \n",
       "2     0.109015  0.0 -0.307565  ... -0.274835 -0.156748  1.239377 -1.023223   \n",
       "3    -0.507674  0.0 -0.709699  ... -0.274835 -0.156748  1.239377 -1.023223   \n",
       "4     0.495016  0.0  0.244143  ... -0.274835 -0.156748  1.239377 -1.023223   \n",
       "...        ...  ...       ...  ...       ...       ...       ...       ...   \n",
       "2914 -1.001025  0.0 -1.224627  ... -0.274835 -0.156748 -0.806857  0.977304   \n",
       "2915 -0.425449  0.0 -1.224627  ... -0.274835 -0.156748 -0.806857  0.977304   \n",
       "2916  1.794631  0.0  0.437854  ... -0.274835 -0.156748 -0.806857  0.977304   \n",
       "2917 -0.231306  0.0 -0.327182  ... -0.274835 -0.156748 -0.806857  0.977304   \n",
       "2918  0.730272  0.0 -0.121211  ... -0.274835 -0.156748 -0.806857  0.977304   \n",
       "\n",
       "           163       164      165       166       167       168  \n",
       "0    -0.263861 -0.064249 -0.09105 -0.126535  0.463937 -0.302693  \n",
       "1    -0.263861 -0.064249 -0.09105 -0.126535  0.463937 -0.302693  \n",
       "2    -0.263861 -0.064249 -0.09105 -0.126535  0.463937 -0.302693  \n",
       "3     3.789876 -0.064249 -0.09105 -0.126535 -2.155466 -0.302693  \n",
       "4    -0.263861 -0.064249 -0.09105 -0.126535  0.463937 -0.302693  \n",
       "...        ...       ...      ...       ...       ...       ...  \n",
       "2914 -0.263861 -0.064249 -0.09105 -0.126535  0.463937 -0.302693  \n",
       "2915  3.789876 -0.064249 -0.09105 -0.126535 -2.155466 -0.302693  \n",
       "2916  3.789876 -0.064249 -0.09105 -0.126535 -2.155466 -0.302693  \n",
       "2917 -0.263861 -0.064249 -0.09105 -0.126535  0.463937 -0.302693  \n",
       "2918 -0.263861 -0.064249 -0.09105 -0.126535  0.463937 -0.302693  \n",
       "\n",
       "[2919 rows x 169 columns]"
      ]
     },
     "execution_count": 109,
     "metadata": {},
     "output_type": "execute_result"
    }
   ],
   "source": [
    "X"
   ]
  },
  {
   "cell_type": "code",
   "execution_count": 110,
   "metadata": {},
   "outputs": [],
   "source": [
    "train_data = pd.DataFrame(X[:1460])\n",
    "test_data = pd.DataFrame(X[1460:])"
   ]
  },
  {
   "cell_type": "code",
   "execution_count": 111,
   "metadata": {},
   "outputs": [
    {
     "data": {
      "text/plain": [
       "(1460, 169)"
      ]
     },
     "execution_count": 111,
     "metadata": {},
     "output_type": "execute_result"
    }
   ],
   "source": [
    "train_data.shape"
   ]
  },
  {
   "cell_type": "code",
   "execution_count": 112,
   "metadata": {},
   "outputs": [
    {
     "data": {
      "text/plain": [
       "(1459, 169)"
      ]
     },
     "execution_count": 112,
     "metadata": {},
     "output_type": "execute_result"
    }
   ],
   "source": [
    "test_data.shape"
   ]
  },
  {
   "cell_type": "code",
   "execution_count": 66,
   "metadata": {},
   "outputs": [],
   "source": [
    "from sklearn.model_selection import train_test_split\n",
    "x_train,x_test,y_train,y_test=train_test_split(train_data,Sale_Price,test_size=.30,random_state=40)"
   ]
  },
  {
   "cell_type": "code",
   "execution_count": 142,
   "metadata": {},
   "outputs": [],
   "source": [
    "print(x_train.shape)\n",
    "print(y_train.shape)\n",
    "print(x_test.shape)\n",
    "print(y_test.shape)"
   ]
  },
  {
   "cell_type": "code",
   "execution_count": 72,
   "metadata": {},
   "outputs": [],
   "source": []
  },
  {
   "cell_type": "code",
   "execution_count": null,
   "metadata": {},
   "outputs": [],
   "source": []
  },
  {
   "cell_type": "code",
   "execution_count": 113,
   "metadata": {},
   "outputs": [],
   "source": [
    "result = pd.concat([train_data, df_train[\"SalePrice\"]], axis=1)"
   ]
  },
  {
   "cell_type": "code",
   "execution_count": 114,
   "metadata": {},
   "outputs": [
    {
     "data": {
      "text/html": [
       "<style  type=\"text/css\" >\n",
       "</style><table id=\"T_e8857e4c_b3d8_11eb_8671_d8fc939094b6\" ><thead>    <tr>        <th class=\"blank level0\" ></th>        <th class=\"col_heading level0 col0\" >Description</th>        <th class=\"col_heading level0 col1\" >Value</th>    </tr></thead><tbody>\n",
       "                <tr>\n",
       "                        <th id=\"T_e8857e4c_b3d8_11eb_8671_d8fc939094b6level0_row0\" class=\"row_heading level0 row0\" >0</th>\n",
       "                        <td id=\"T_e8857e4c_b3d8_11eb_8671_d8fc939094b6row0_col0\" class=\"data row0 col0\" >session_id</td>\n",
       "                        <td id=\"T_e8857e4c_b3d8_11eb_8671_d8fc939094b6row0_col1\" class=\"data row0 col1\" >7415</td>\n",
       "            </tr>\n",
       "            <tr>\n",
       "                        <th id=\"T_e8857e4c_b3d8_11eb_8671_d8fc939094b6level0_row1\" class=\"row_heading level0 row1\" >1</th>\n",
       "                        <td id=\"T_e8857e4c_b3d8_11eb_8671_d8fc939094b6row1_col0\" class=\"data row1 col0\" >Target</td>\n",
       "                        <td id=\"T_e8857e4c_b3d8_11eb_8671_d8fc939094b6row1_col1\" class=\"data row1 col1\" >SalePrice</td>\n",
       "            </tr>\n",
       "            <tr>\n",
       "                        <th id=\"T_e8857e4c_b3d8_11eb_8671_d8fc939094b6level0_row2\" class=\"row_heading level0 row2\" >2</th>\n",
       "                        <td id=\"T_e8857e4c_b3d8_11eb_8671_d8fc939094b6row2_col0\" class=\"data row2 col0\" >Original Data</td>\n",
       "                        <td id=\"T_e8857e4c_b3d8_11eb_8671_d8fc939094b6row2_col1\" class=\"data row2 col1\" >(1460, 170)</td>\n",
       "            </tr>\n",
       "            <tr>\n",
       "                        <th id=\"T_e8857e4c_b3d8_11eb_8671_d8fc939094b6level0_row3\" class=\"row_heading level0 row3\" >3</th>\n",
       "                        <td id=\"T_e8857e4c_b3d8_11eb_8671_d8fc939094b6row3_col0\" class=\"data row3 col0\" >Missing Values</td>\n",
       "                        <td id=\"T_e8857e4c_b3d8_11eb_8671_d8fc939094b6row3_col1\" class=\"data row3 col1\" >False</td>\n",
       "            </tr>\n",
       "            <tr>\n",
       "                        <th id=\"T_e8857e4c_b3d8_11eb_8671_d8fc939094b6level0_row4\" class=\"row_heading level0 row4\" >4</th>\n",
       "                        <td id=\"T_e8857e4c_b3d8_11eb_8671_d8fc939094b6row4_col0\" class=\"data row4 col0\" >Numeric Features</td>\n",
       "                        <td id=\"T_e8857e4c_b3d8_11eb_8671_d8fc939094b6row4_col1\" class=\"data row4 col1\" >27</td>\n",
       "            </tr>\n",
       "            <tr>\n",
       "                        <th id=\"T_e8857e4c_b3d8_11eb_8671_d8fc939094b6level0_row5\" class=\"row_heading level0 row5\" >5</th>\n",
       "                        <td id=\"T_e8857e4c_b3d8_11eb_8671_d8fc939094b6row5_col0\" class=\"data row5 col0\" >Categorical Features</td>\n",
       "                        <td id=\"T_e8857e4c_b3d8_11eb_8671_d8fc939094b6row5_col1\" class=\"data row5 col1\" >142</td>\n",
       "            </tr>\n",
       "            <tr>\n",
       "                        <th id=\"T_e8857e4c_b3d8_11eb_8671_d8fc939094b6level0_row6\" class=\"row_heading level0 row6\" >6</th>\n",
       "                        <td id=\"T_e8857e4c_b3d8_11eb_8671_d8fc939094b6row6_col0\" class=\"data row6 col0\" >Ordinal Features</td>\n",
       "                        <td id=\"T_e8857e4c_b3d8_11eb_8671_d8fc939094b6row6_col1\" class=\"data row6 col1\" >False</td>\n",
       "            </tr>\n",
       "            <tr>\n",
       "                        <th id=\"T_e8857e4c_b3d8_11eb_8671_d8fc939094b6level0_row7\" class=\"row_heading level0 row7\" >7</th>\n",
       "                        <td id=\"T_e8857e4c_b3d8_11eb_8671_d8fc939094b6row7_col0\" class=\"data row7 col0\" >High Cardinality Features</td>\n",
       "                        <td id=\"T_e8857e4c_b3d8_11eb_8671_d8fc939094b6row7_col1\" class=\"data row7 col1\" >False</td>\n",
       "            </tr>\n",
       "            <tr>\n",
       "                        <th id=\"T_e8857e4c_b3d8_11eb_8671_d8fc939094b6level0_row8\" class=\"row_heading level0 row8\" >8</th>\n",
       "                        <td id=\"T_e8857e4c_b3d8_11eb_8671_d8fc939094b6row8_col0\" class=\"data row8 col0\" >High Cardinality Method</td>\n",
       "                        <td id=\"T_e8857e4c_b3d8_11eb_8671_d8fc939094b6row8_col1\" class=\"data row8 col1\" >None</td>\n",
       "            </tr>\n",
       "            <tr>\n",
       "                        <th id=\"T_e8857e4c_b3d8_11eb_8671_d8fc939094b6level0_row9\" class=\"row_heading level0 row9\" >9</th>\n",
       "                        <td id=\"T_e8857e4c_b3d8_11eb_8671_d8fc939094b6row9_col0\" class=\"data row9 col0\" >Transformed Train Set</td>\n",
       "                        <td id=\"T_e8857e4c_b3d8_11eb_8671_d8fc939094b6row9_col1\" class=\"data row9 col1\" >(1021, 165)</td>\n",
       "            </tr>\n",
       "            <tr>\n",
       "                        <th id=\"T_e8857e4c_b3d8_11eb_8671_d8fc939094b6level0_row10\" class=\"row_heading level0 row10\" >10</th>\n",
       "                        <td id=\"T_e8857e4c_b3d8_11eb_8671_d8fc939094b6row10_col0\" class=\"data row10 col0\" >Transformed Test Set</td>\n",
       "                        <td id=\"T_e8857e4c_b3d8_11eb_8671_d8fc939094b6row10_col1\" class=\"data row10 col1\" >(439, 165)</td>\n",
       "            </tr>\n",
       "            <tr>\n",
       "                        <th id=\"T_e8857e4c_b3d8_11eb_8671_d8fc939094b6level0_row11\" class=\"row_heading level0 row11\" >11</th>\n",
       "                        <td id=\"T_e8857e4c_b3d8_11eb_8671_d8fc939094b6row11_col0\" class=\"data row11 col0\" >Shuffle Train-Test</td>\n",
       "                        <td id=\"T_e8857e4c_b3d8_11eb_8671_d8fc939094b6row11_col1\" class=\"data row11 col1\" >True</td>\n",
       "            </tr>\n",
       "            <tr>\n",
       "                        <th id=\"T_e8857e4c_b3d8_11eb_8671_d8fc939094b6level0_row12\" class=\"row_heading level0 row12\" >12</th>\n",
       "                        <td id=\"T_e8857e4c_b3d8_11eb_8671_d8fc939094b6row12_col0\" class=\"data row12 col0\" >Stratify Train-Test</td>\n",
       "                        <td id=\"T_e8857e4c_b3d8_11eb_8671_d8fc939094b6row12_col1\" class=\"data row12 col1\" >False</td>\n",
       "            </tr>\n",
       "            <tr>\n",
       "                        <th id=\"T_e8857e4c_b3d8_11eb_8671_d8fc939094b6level0_row13\" class=\"row_heading level0 row13\" >13</th>\n",
       "                        <td id=\"T_e8857e4c_b3d8_11eb_8671_d8fc939094b6row13_col0\" class=\"data row13 col0\" >Fold Generator</td>\n",
       "                        <td id=\"T_e8857e4c_b3d8_11eb_8671_d8fc939094b6row13_col1\" class=\"data row13 col1\" >KFold</td>\n",
       "            </tr>\n",
       "            <tr>\n",
       "                        <th id=\"T_e8857e4c_b3d8_11eb_8671_d8fc939094b6level0_row14\" class=\"row_heading level0 row14\" >14</th>\n",
       "                        <td id=\"T_e8857e4c_b3d8_11eb_8671_d8fc939094b6row14_col0\" class=\"data row14 col0\" >Fold Number</td>\n",
       "                        <td id=\"T_e8857e4c_b3d8_11eb_8671_d8fc939094b6row14_col1\" class=\"data row14 col1\" >10</td>\n",
       "            </tr>\n",
       "            <tr>\n",
       "                        <th id=\"T_e8857e4c_b3d8_11eb_8671_d8fc939094b6level0_row15\" class=\"row_heading level0 row15\" >15</th>\n",
       "                        <td id=\"T_e8857e4c_b3d8_11eb_8671_d8fc939094b6row15_col0\" class=\"data row15 col0\" >CPU Jobs</td>\n",
       "                        <td id=\"T_e8857e4c_b3d8_11eb_8671_d8fc939094b6row15_col1\" class=\"data row15 col1\" >-1</td>\n",
       "            </tr>\n",
       "            <tr>\n",
       "                        <th id=\"T_e8857e4c_b3d8_11eb_8671_d8fc939094b6level0_row16\" class=\"row_heading level0 row16\" >16</th>\n",
       "                        <td id=\"T_e8857e4c_b3d8_11eb_8671_d8fc939094b6row16_col0\" class=\"data row16 col0\" >Use GPU</td>\n",
       "                        <td id=\"T_e8857e4c_b3d8_11eb_8671_d8fc939094b6row16_col1\" class=\"data row16 col1\" >False</td>\n",
       "            </tr>\n",
       "            <tr>\n",
       "                        <th id=\"T_e8857e4c_b3d8_11eb_8671_d8fc939094b6level0_row17\" class=\"row_heading level0 row17\" >17</th>\n",
       "                        <td id=\"T_e8857e4c_b3d8_11eb_8671_d8fc939094b6row17_col0\" class=\"data row17 col0\" >Log Experiment</td>\n",
       "                        <td id=\"T_e8857e4c_b3d8_11eb_8671_d8fc939094b6row17_col1\" class=\"data row17 col1\" >False</td>\n",
       "            </tr>\n",
       "            <tr>\n",
       "                        <th id=\"T_e8857e4c_b3d8_11eb_8671_d8fc939094b6level0_row18\" class=\"row_heading level0 row18\" >18</th>\n",
       "                        <td id=\"T_e8857e4c_b3d8_11eb_8671_d8fc939094b6row18_col0\" class=\"data row18 col0\" >Experiment Name</td>\n",
       "                        <td id=\"T_e8857e4c_b3d8_11eb_8671_d8fc939094b6row18_col1\" class=\"data row18 col1\" >reg-default-name</td>\n",
       "            </tr>\n",
       "            <tr>\n",
       "                        <th id=\"T_e8857e4c_b3d8_11eb_8671_d8fc939094b6level0_row19\" class=\"row_heading level0 row19\" >19</th>\n",
       "                        <td id=\"T_e8857e4c_b3d8_11eb_8671_d8fc939094b6row19_col0\" class=\"data row19 col0\" >USI</td>\n",
       "                        <td id=\"T_e8857e4c_b3d8_11eb_8671_d8fc939094b6row19_col1\" class=\"data row19 col1\" >01d0</td>\n",
       "            </tr>\n",
       "            <tr>\n",
       "                        <th id=\"T_e8857e4c_b3d8_11eb_8671_d8fc939094b6level0_row20\" class=\"row_heading level0 row20\" >20</th>\n",
       "                        <td id=\"T_e8857e4c_b3d8_11eb_8671_d8fc939094b6row20_col0\" class=\"data row20 col0\" >Imputation Type</td>\n",
       "                        <td id=\"T_e8857e4c_b3d8_11eb_8671_d8fc939094b6row20_col1\" class=\"data row20 col1\" >simple</td>\n",
       "            </tr>\n",
       "            <tr>\n",
       "                        <th id=\"T_e8857e4c_b3d8_11eb_8671_d8fc939094b6level0_row21\" class=\"row_heading level0 row21\" >21</th>\n",
       "                        <td id=\"T_e8857e4c_b3d8_11eb_8671_d8fc939094b6row21_col0\" class=\"data row21 col0\" >Iterative Imputation Iteration</td>\n",
       "                        <td id=\"T_e8857e4c_b3d8_11eb_8671_d8fc939094b6row21_col1\" class=\"data row21 col1\" >None</td>\n",
       "            </tr>\n",
       "            <tr>\n",
       "                        <th id=\"T_e8857e4c_b3d8_11eb_8671_d8fc939094b6level0_row22\" class=\"row_heading level0 row22\" >22</th>\n",
       "                        <td id=\"T_e8857e4c_b3d8_11eb_8671_d8fc939094b6row22_col0\" class=\"data row22 col0\" >Numeric Imputer</td>\n",
       "                        <td id=\"T_e8857e4c_b3d8_11eb_8671_d8fc939094b6row22_col1\" class=\"data row22 col1\" >mean</td>\n",
       "            </tr>\n",
       "            <tr>\n",
       "                        <th id=\"T_e8857e4c_b3d8_11eb_8671_d8fc939094b6level0_row23\" class=\"row_heading level0 row23\" >23</th>\n",
       "                        <td id=\"T_e8857e4c_b3d8_11eb_8671_d8fc939094b6row23_col0\" class=\"data row23 col0\" >Iterative Imputation Numeric Model</td>\n",
       "                        <td id=\"T_e8857e4c_b3d8_11eb_8671_d8fc939094b6row23_col1\" class=\"data row23 col1\" >None</td>\n",
       "            </tr>\n",
       "            <tr>\n",
       "                        <th id=\"T_e8857e4c_b3d8_11eb_8671_d8fc939094b6level0_row24\" class=\"row_heading level0 row24\" >24</th>\n",
       "                        <td id=\"T_e8857e4c_b3d8_11eb_8671_d8fc939094b6row24_col0\" class=\"data row24 col0\" >Categorical Imputer</td>\n",
       "                        <td id=\"T_e8857e4c_b3d8_11eb_8671_d8fc939094b6row24_col1\" class=\"data row24 col1\" >constant</td>\n",
       "            </tr>\n",
       "            <tr>\n",
       "                        <th id=\"T_e8857e4c_b3d8_11eb_8671_d8fc939094b6level0_row25\" class=\"row_heading level0 row25\" >25</th>\n",
       "                        <td id=\"T_e8857e4c_b3d8_11eb_8671_d8fc939094b6row25_col0\" class=\"data row25 col0\" >Iterative Imputation Categorical Model</td>\n",
       "                        <td id=\"T_e8857e4c_b3d8_11eb_8671_d8fc939094b6row25_col1\" class=\"data row25 col1\" >None</td>\n",
       "            </tr>\n",
       "            <tr>\n",
       "                        <th id=\"T_e8857e4c_b3d8_11eb_8671_d8fc939094b6level0_row26\" class=\"row_heading level0 row26\" >26</th>\n",
       "                        <td id=\"T_e8857e4c_b3d8_11eb_8671_d8fc939094b6row26_col0\" class=\"data row26 col0\" >Unknown Categoricals Handling</td>\n",
       "                        <td id=\"T_e8857e4c_b3d8_11eb_8671_d8fc939094b6row26_col1\" class=\"data row26 col1\" >least_frequent</td>\n",
       "            </tr>\n",
       "            <tr>\n",
       "                        <th id=\"T_e8857e4c_b3d8_11eb_8671_d8fc939094b6level0_row27\" class=\"row_heading level0 row27\" >27</th>\n",
       "                        <td id=\"T_e8857e4c_b3d8_11eb_8671_d8fc939094b6row27_col0\" class=\"data row27 col0\" >Normalize</td>\n",
       "                        <td id=\"T_e8857e4c_b3d8_11eb_8671_d8fc939094b6row27_col1\" class=\"data row27 col1\" >False</td>\n",
       "            </tr>\n",
       "            <tr>\n",
       "                        <th id=\"T_e8857e4c_b3d8_11eb_8671_d8fc939094b6level0_row28\" class=\"row_heading level0 row28\" >28</th>\n",
       "                        <td id=\"T_e8857e4c_b3d8_11eb_8671_d8fc939094b6row28_col0\" class=\"data row28 col0\" >Normalize Method</td>\n",
       "                        <td id=\"T_e8857e4c_b3d8_11eb_8671_d8fc939094b6row28_col1\" class=\"data row28 col1\" >None</td>\n",
       "            </tr>\n",
       "            <tr>\n",
       "                        <th id=\"T_e8857e4c_b3d8_11eb_8671_d8fc939094b6level0_row29\" class=\"row_heading level0 row29\" >29</th>\n",
       "                        <td id=\"T_e8857e4c_b3d8_11eb_8671_d8fc939094b6row29_col0\" class=\"data row29 col0\" >Transformation</td>\n",
       "                        <td id=\"T_e8857e4c_b3d8_11eb_8671_d8fc939094b6row29_col1\" class=\"data row29 col1\" >False</td>\n",
       "            </tr>\n",
       "            <tr>\n",
       "                        <th id=\"T_e8857e4c_b3d8_11eb_8671_d8fc939094b6level0_row30\" class=\"row_heading level0 row30\" >30</th>\n",
       "                        <td id=\"T_e8857e4c_b3d8_11eb_8671_d8fc939094b6row30_col0\" class=\"data row30 col0\" >Transformation Method</td>\n",
       "                        <td id=\"T_e8857e4c_b3d8_11eb_8671_d8fc939094b6row30_col1\" class=\"data row30 col1\" >None</td>\n",
       "            </tr>\n",
       "            <tr>\n",
       "                        <th id=\"T_e8857e4c_b3d8_11eb_8671_d8fc939094b6level0_row31\" class=\"row_heading level0 row31\" >31</th>\n",
       "                        <td id=\"T_e8857e4c_b3d8_11eb_8671_d8fc939094b6row31_col0\" class=\"data row31 col0\" >PCA</td>\n",
       "                        <td id=\"T_e8857e4c_b3d8_11eb_8671_d8fc939094b6row31_col1\" class=\"data row31 col1\" >False</td>\n",
       "            </tr>\n",
       "            <tr>\n",
       "                        <th id=\"T_e8857e4c_b3d8_11eb_8671_d8fc939094b6level0_row32\" class=\"row_heading level0 row32\" >32</th>\n",
       "                        <td id=\"T_e8857e4c_b3d8_11eb_8671_d8fc939094b6row32_col0\" class=\"data row32 col0\" >PCA Method</td>\n",
       "                        <td id=\"T_e8857e4c_b3d8_11eb_8671_d8fc939094b6row32_col1\" class=\"data row32 col1\" >None</td>\n",
       "            </tr>\n",
       "            <tr>\n",
       "                        <th id=\"T_e8857e4c_b3d8_11eb_8671_d8fc939094b6level0_row33\" class=\"row_heading level0 row33\" >33</th>\n",
       "                        <td id=\"T_e8857e4c_b3d8_11eb_8671_d8fc939094b6row33_col0\" class=\"data row33 col0\" >PCA Components</td>\n",
       "                        <td id=\"T_e8857e4c_b3d8_11eb_8671_d8fc939094b6row33_col1\" class=\"data row33 col1\" >None</td>\n",
       "            </tr>\n",
       "            <tr>\n",
       "                        <th id=\"T_e8857e4c_b3d8_11eb_8671_d8fc939094b6level0_row34\" class=\"row_heading level0 row34\" >34</th>\n",
       "                        <td id=\"T_e8857e4c_b3d8_11eb_8671_d8fc939094b6row34_col0\" class=\"data row34 col0\" >Ignore Low Variance</td>\n",
       "                        <td id=\"T_e8857e4c_b3d8_11eb_8671_d8fc939094b6row34_col1\" class=\"data row34 col1\" >False</td>\n",
       "            </tr>\n",
       "            <tr>\n",
       "                        <th id=\"T_e8857e4c_b3d8_11eb_8671_d8fc939094b6level0_row35\" class=\"row_heading level0 row35\" >35</th>\n",
       "                        <td id=\"T_e8857e4c_b3d8_11eb_8671_d8fc939094b6row35_col0\" class=\"data row35 col0\" >Combine Rare Levels</td>\n",
       "                        <td id=\"T_e8857e4c_b3d8_11eb_8671_d8fc939094b6row35_col1\" class=\"data row35 col1\" >False</td>\n",
       "            </tr>\n",
       "            <tr>\n",
       "                        <th id=\"T_e8857e4c_b3d8_11eb_8671_d8fc939094b6level0_row36\" class=\"row_heading level0 row36\" >36</th>\n",
       "                        <td id=\"T_e8857e4c_b3d8_11eb_8671_d8fc939094b6row36_col0\" class=\"data row36 col0\" >Rare Level Threshold</td>\n",
       "                        <td id=\"T_e8857e4c_b3d8_11eb_8671_d8fc939094b6row36_col1\" class=\"data row36 col1\" >None</td>\n",
       "            </tr>\n",
       "            <tr>\n",
       "                        <th id=\"T_e8857e4c_b3d8_11eb_8671_d8fc939094b6level0_row37\" class=\"row_heading level0 row37\" >37</th>\n",
       "                        <td id=\"T_e8857e4c_b3d8_11eb_8671_d8fc939094b6row37_col0\" class=\"data row37 col0\" >Numeric Binning</td>\n",
       "                        <td id=\"T_e8857e4c_b3d8_11eb_8671_d8fc939094b6row37_col1\" class=\"data row37 col1\" >False</td>\n",
       "            </tr>\n",
       "            <tr>\n",
       "                        <th id=\"T_e8857e4c_b3d8_11eb_8671_d8fc939094b6level0_row38\" class=\"row_heading level0 row38\" >38</th>\n",
       "                        <td id=\"T_e8857e4c_b3d8_11eb_8671_d8fc939094b6row38_col0\" class=\"data row38 col0\" >Remove Outliers</td>\n",
       "                        <td id=\"T_e8857e4c_b3d8_11eb_8671_d8fc939094b6row38_col1\" class=\"data row38 col1\" >False</td>\n",
       "            </tr>\n",
       "            <tr>\n",
       "                        <th id=\"T_e8857e4c_b3d8_11eb_8671_d8fc939094b6level0_row39\" class=\"row_heading level0 row39\" >39</th>\n",
       "                        <td id=\"T_e8857e4c_b3d8_11eb_8671_d8fc939094b6row39_col0\" class=\"data row39 col0\" >Outliers Threshold</td>\n",
       "                        <td id=\"T_e8857e4c_b3d8_11eb_8671_d8fc939094b6row39_col1\" class=\"data row39 col1\" >None</td>\n",
       "            </tr>\n",
       "            <tr>\n",
       "                        <th id=\"T_e8857e4c_b3d8_11eb_8671_d8fc939094b6level0_row40\" class=\"row_heading level0 row40\" >40</th>\n",
       "                        <td id=\"T_e8857e4c_b3d8_11eb_8671_d8fc939094b6row40_col0\" class=\"data row40 col0\" >Remove Multicollinearity</td>\n",
       "                        <td id=\"T_e8857e4c_b3d8_11eb_8671_d8fc939094b6row40_col1\" class=\"data row40 col1\" >False</td>\n",
       "            </tr>\n",
       "            <tr>\n",
       "                        <th id=\"T_e8857e4c_b3d8_11eb_8671_d8fc939094b6level0_row41\" class=\"row_heading level0 row41\" >41</th>\n",
       "                        <td id=\"T_e8857e4c_b3d8_11eb_8671_d8fc939094b6row41_col0\" class=\"data row41 col0\" >Multicollinearity Threshold</td>\n",
       "                        <td id=\"T_e8857e4c_b3d8_11eb_8671_d8fc939094b6row41_col1\" class=\"data row41 col1\" >None</td>\n",
       "            </tr>\n",
       "            <tr>\n",
       "                        <th id=\"T_e8857e4c_b3d8_11eb_8671_d8fc939094b6level0_row42\" class=\"row_heading level0 row42\" >42</th>\n",
       "                        <td id=\"T_e8857e4c_b3d8_11eb_8671_d8fc939094b6row42_col0\" class=\"data row42 col0\" >Clustering</td>\n",
       "                        <td id=\"T_e8857e4c_b3d8_11eb_8671_d8fc939094b6row42_col1\" class=\"data row42 col1\" >False</td>\n",
       "            </tr>\n",
       "            <tr>\n",
       "                        <th id=\"T_e8857e4c_b3d8_11eb_8671_d8fc939094b6level0_row43\" class=\"row_heading level0 row43\" >43</th>\n",
       "                        <td id=\"T_e8857e4c_b3d8_11eb_8671_d8fc939094b6row43_col0\" class=\"data row43 col0\" >Clustering Iteration</td>\n",
       "                        <td id=\"T_e8857e4c_b3d8_11eb_8671_d8fc939094b6row43_col1\" class=\"data row43 col1\" >None</td>\n",
       "            </tr>\n",
       "            <tr>\n",
       "                        <th id=\"T_e8857e4c_b3d8_11eb_8671_d8fc939094b6level0_row44\" class=\"row_heading level0 row44\" >44</th>\n",
       "                        <td id=\"T_e8857e4c_b3d8_11eb_8671_d8fc939094b6row44_col0\" class=\"data row44 col0\" >Polynomial Features</td>\n",
       "                        <td id=\"T_e8857e4c_b3d8_11eb_8671_d8fc939094b6row44_col1\" class=\"data row44 col1\" >False</td>\n",
       "            </tr>\n",
       "            <tr>\n",
       "                        <th id=\"T_e8857e4c_b3d8_11eb_8671_d8fc939094b6level0_row45\" class=\"row_heading level0 row45\" >45</th>\n",
       "                        <td id=\"T_e8857e4c_b3d8_11eb_8671_d8fc939094b6row45_col0\" class=\"data row45 col0\" >Polynomial Degree</td>\n",
       "                        <td id=\"T_e8857e4c_b3d8_11eb_8671_d8fc939094b6row45_col1\" class=\"data row45 col1\" >None</td>\n",
       "            </tr>\n",
       "            <tr>\n",
       "                        <th id=\"T_e8857e4c_b3d8_11eb_8671_d8fc939094b6level0_row46\" class=\"row_heading level0 row46\" >46</th>\n",
       "                        <td id=\"T_e8857e4c_b3d8_11eb_8671_d8fc939094b6row46_col0\" class=\"data row46 col0\" >Trignometry Features</td>\n",
       "                        <td id=\"T_e8857e4c_b3d8_11eb_8671_d8fc939094b6row46_col1\" class=\"data row46 col1\" >False</td>\n",
       "            </tr>\n",
       "            <tr>\n",
       "                        <th id=\"T_e8857e4c_b3d8_11eb_8671_d8fc939094b6level0_row47\" class=\"row_heading level0 row47\" >47</th>\n",
       "                        <td id=\"T_e8857e4c_b3d8_11eb_8671_d8fc939094b6row47_col0\" class=\"data row47 col0\" >Polynomial Threshold</td>\n",
       "                        <td id=\"T_e8857e4c_b3d8_11eb_8671_d8fc939094b6row47_col1\" class=\"data row47 col1\" >None</td>\n",
       "            </tr>\n",
       "            <tr>\n",
       "                        <th id=\"T_e8857e4c_b3d8_11eb_8671_d8fc939094b6level0_row48\" class=\"row_heading level0 row48\" >48</th>\n",
       "                        <td id=\"T_e8857e4c_b3d8_11eb_8671_d8fc939094b6row48_col0\" class=\"data row48 col0\" >Group Features</td>\n",
       "                        <td id=\"T_e8857e4c_b3d8_11eb_8671_d8fc939094b6row48_col1\" class=\"data row48 col1\" >False</td>\n",
       "            </tr>\n",
       "            <tr>\n",
       "                        <th id=\"T_e8857e4c_b3d8_11eb_8671_d8fc939094b6level0_row49\" class=\"row_heading level0 row49\" >49</th>\n",
       "                        <td id=\"T_e8857e4c_b3d8_11eb_8671_d8fc939094b6row49_col0\" class=\"data row49 col0\" >Feature Selection</td>\n",
       "                        <td id=\"T_e8857e4c_b3d8_11eb_8671_d8fc939094b6row49_col1\" class=\"data row49 col1\" >False</td>\n",
       "            </tr>\n",
       "            <tr>\n",
       "                        <th id=\"T_e8857e4c_b3d8_11eb_8671_d8fc939094b6level0_row50\" class=\"row_heading level0 row50\" >50</th>\n",
       "                        <td id=\"T_e8857e4c_b3d8_11eb_8671_d8fc939094b6row50_col0\" class=\"data row50 col0\" >Feature Selection Method</td>\n",
       "                        <td id=\"T_e8857e4c_b3d8_11eb_8671_d8fc939094b6row50_col1\" class=\"data row50 col1\" >classic</td>\n",
       "            </tr>\n",
       "            <tr>\n",
       "                        <th id=\"T_e8857e4c_b3d8_11eb_8671_d8fc939094b6level0_row51\" class=\"row_heading level0 row51\" >51</th>\n",
       "                        <td id=\"T_e8857e4c_b3d8_11eb_8671_d8fc939094b6row51_col0\" class=\"data row51 col0\" >Features Selection Threshold</td>\n",
       "                        <td id=\"T_e8857e4c_b3d8_11eb_8671_d8fc939094b6row51_col1\" class=\"data row51 col1\" >None</td>\n",
       "            </tr>\n",
       "            <tr>\n",
       "                        <th id=\"T_e8857e4c_b3d8_11eb_8671_d8fc939094b6level0_row52\" class=\"row_heading level0 row52\" >52</th>\n",
       "                        <td id=\"T_e8857e4c_b3d8_11eb_8671_d8fc939094b6row52_col0\" class=\"data row52 col0\" >Feature Interaction</td>\n",
       "                        <td id=\"T_e8857e4c_b3d8_11eb_8671_d8fc939094b6row52_col1\" class=\"data row52 col1\" >False</td>\n",
       "            </tr>\n",
       "            <tr>\n",
       "                        <th id=\"T_e8857e4c_b3d8_11eb_8671_d8fc939094b6level0_row53\" class=\"row_heading level0 row53\" >53</th>\n",
       "                        <td id=\"T_e8857e4c_b3d8_11eb_8671_d8fc939094b6row53_col0\" class=\"data row53 col0\" >Feature Ratio</td>\n",
       "                        <td id=\"T_e8857e4c_b3d8_11eb_8671_d8fc939094b6row53_col1\" class=\"data row53 col1\" >False</td>\n",
       "            </tr>\n",
       "            <tr>\n",
       "                        <th id=\"T_e8857e4c_b3d8_11eb_8671_d8fc939094b6level0_row54\" class=\"row_heading level0 row54\" >54</th>\n",
       "                        <td id=\"T_e8857e4c_b3d8_11eb_8671_d8fc939094b6row54_col0\" class=\"data row54 col0\" >Interaction Threshold</td>\n",
       "                        <td id=\"T_e8857e4c_b3d8_11eb_8671_d8fc939094b6row54_col1\" class=\"data row54 col1\" >None</td>\n",
       "            </tr>\n",
       "            <tr>\n",
       "                        <th id=\"T_e8857e4c_b3d8_11eb_8671_d8fc939094b6level0_row55\" class=\"row_heading level0 row55\" >55</th>\n",
       "                        <td id=\"T_e8857e4c_b3d8_11eb_8671_d8fc939094b6row55_col0\" class=\"data row55 col0\" >Transform Target</td>\n",
       "                        <td id=\"T_e8857e4c_b3d8_11eb_8671_d8fc939094b6row55_col1\" class=\"data row55 col1\" >False</td>\n",
       "            </tr>\n",
       "            <tr>\n",
       "                        <th id=\"T_e8857e4c_b3d8_11eb_8671_d8fc939094b6level0_row56\" class=\"row_heading level0 row56\" >56</th>\n",
       "                        <td id=\"T_e8857e4c_b3d8_11eb_8671_d8fc939094b6row56_col0\" class=\"data row56 col0\" >Transform Target Method</td>\n",
       "                        <td id=\"T_e8857e4c_b3d8_11eb_8671_d8fc939094b6row56_col1\" class=\"data row56 col1\" >box-cox</td>\n",
       "            </tr>\n",
       "    </tbody></table>"
      ],
      "text/plain": [
       "<pandas.io.formats.style.Styler at 0x25a38be22b0>"
      ]
     },
     "metadata": {},
     "output_type": "display_data"
    }
   ],
   "source": [
    "from pycaret.regression import *\n",
    "reg = setup(data =result, target=\"SalePrice\")"
   ]
  },
  {
   "cell_type": "code",
   "execution_count": 115,
   "metadata": {},
   "outputs": [
    {
     "data": {
      "text/html": [
       "<style  type=\"text/css\" >\n",
       "    #T_052de812_b3d9_11eb_8223_d8fc939094b6 th {\n",
       "          text-align: left;\n",
       "    }#T_052de812_b3d9_11eb_8223_d8fc939094b6row0_col0,#T_052de812_b3d9_11eb_8223_d8fc939094b6row1_col0,#T_052de812_b3d9_11eb_8223_d8fc939094b6row1_col1,#T_052de812_b3d9_11eb_8223_d8fc939094b6row1_col2,#T_052de812_b3d9_11eb_8223_d8fc939094b6row1_col3,#T_052de812_b3d9_11eb_8223_d8fc939094b6row1_col4,#T_052de812_b3d9_11eb_8223_d8fc939094b6row1_col5,#T_052de812_b3d9_11eb_8223_d8fc939094b6row1_col6,#T_052de812_b3d9_11eb_8223_d8fc939094b6row2_col0,#T_052de812_b3d9_11eb_8223_d8fc939094b6row2_col1,#T_052de812_b3d9_11eb_8223_d8fc939094b6row2_col2,#T_052de812_b3d9_11eb_8223_d8fc939094b6row2_col3,#T_052de812_b3d9_11eb_8223_d8fc939094b6row2_col4,#T_052de812_b3d9_11eb_8223_d8fc939094b6row2_col5,#T_052de812_b3d9_11eb_8223_d8fc939094b6row2_col6,#T_052de812_b3d9_11eb_8223_d8fc939094b6row3_col0,#T_052de812_b3d9_11eb_8223_d8fc939094b6row3_col1,#T_052de812_b3d9_11eb_8223_d8fc939094b6row3_col2,#T_052de812_b3d9_11eb_8223_d8fc939094b6row3_col3,#T_052de812_b3d9_11eb_8223_d8fc939094b6row3_col4,#T_052de812_b3d9_11eb_8223_d8fc939094b6row3_col5,#T_052de812_b3d9_11eb_8223_d8fc939094b6row3_col6,#T_052de812_b3d9_11eb_8223_d8fc939094b6row4_col0,#T_052de812_b3d9_11eb_8223_d8fc939094b6row4_col1,#T_052de812_b3d9_11eb_8223_d8fc939094b6row4_col2,#T_052de812_b3d9_11eb_8223_d8fc939094b6row4_col3,#T_052de812_b3d9_11eb_8223_d8fc939094b6row4_col4,#T_052de812_b3d9_11eb_8223_d8fc939094b6row4_col5,#T_052de812_b3d9_11eb_8223_d8fc939094b6row4_col6,#T_052de812_b3d9_11eb_8223_d8fc939094b6row5_col0,#T_052de812_b3d9_11eb_8223_d8fc939094b6row5_col1,#T_052de812_b3d9_11eb_8223_d8fc939094b6row5_col2,#T_052de812_b3d9_11eb_8223_d8fc939094b6row5_col3,#T_052de812_b3d9_11eb_8223_d8fc939094b6row5_col4,#T_052de812_b3d9_11eb_8223_d8fc939094b6row5_col5,#T_052de812_b3d9_11eb_8223_d8fc939094b6row5_col6,#T_052de812_b3d9_11eb_8223_d8fc939094b6row6_col0,#T_052de812_b3d9_11eb_8223_d8fc939094b6row6_col1,#T_052de812_b3d9_11eb_8223_d8fc939094b6row6_col2,#T_052de812_b3d9_11eb_8223_d8fc939094b6row6_col3,#T_052de812_b3d9_11eb_8223_d8fc939094b6row6_col4,#T_052de812_b3d9_11eb_8223_d8fc939094b6row6_col5,#T_052de812_b3d9_11eb_8223_d8fc939094b6row6_col6,#T_052de812_b3d9_11eb_8223_d8fc939094b6row7_col0,#T_052de812_b3d9_11eb_8223_d8fc939094b6row7_col1,#T_052de812_b3d9_11eb_8223_d8fc939094b6row7_col2,#T_052de812_b3d9_11eb_8223_d8fc939094b6row7_col3,#T_052de812_b3d9_11eb_8223_d8fc939094b6row7_col4,#T_052de812_b3d9_11eb_8223_d8fc939094b6row7_col5,#T_052de812_b3d9_11eb_8223_d8fc939094b6row7_col6,#T_052de812_b3d9_11eb_8223_d8fc939094b6row8_col0,#T_052de812_b3d9_11eb_8223_d8fc939094b6row8_col1,#T_052de812_b3d9_11eb_8223_d8fc939094b6row8_col2,#T_052de812_b3d9_11eb_8223_d8fc939094b6row8_col3,#T_052de812_b3d9_11eb_8223_d8fc939094b6row8_col4,#T_052de812_b3d9_11eb_8223_d8fc939094b6row8_col5,#T_052de812_b3d9_11eb_8223_d8fc939094b6row8_col6,#T_052de812_b3d9_11eb_8223_d8fc939094b6row9_col0,#T_052de812_b3d9_11eb_8223_d8fc939094b6row9_col1,#T_052de812_b3d9_11eb_8223_d8fc939094b6row9_col2,#T_052de812_b3d9_11eb_8223_d8fc939094b6row9_col3,#T_052de812_b3d9_11eb_8223_d8fc939094b6row9_col4,#T_052de812_b3d9_11eb_8223_d8fc939094b6row9_col5,#T_052de812_b3d9_11eb_8223_d8fc939094b6row9_col6,#T_052de812_b3d9_11eb_8223_d8fc939094b6row10_col0,#T_052de812_b3d9_11eb_8223_d8fc939094b6row10_col1,#T_052de812_b3d9_11eb_8223_d8fc939094b6row10_col2,#T_052de812_b3d9_11eb_8223_d8fc939094b6row10_col3,#T_052de812_b3d9_11eb_8223_d8fc939094b6row10_col4,#T_052de812_b3d9_11eb_8223_d8fc939094b6row10_col5,#T_052de812_b3d9_11eb_8223_d8fc939094b6row10_col6,#T_052de812_b3d9_11eb_8223_d8fc939094b6row11_col0,#T_052de812_b3d9_11eb_8223_d8fc939094b6row11_col1,#T_052de812_b3d9_11eb_8223_d8fc939094b6row11_col2,#T_052de812_b3d9_11eb_8223_d8fc939094b6row11_col3,#T_052de812_b3d9_11eb_8223_d8fc939094b6row11_col4,#T_052de812_b3d9_11eb_8223_d8fc939094b6row11_col5,#T_052de812_b3d9_11eb_8223_d8fc939094b6row11_col6,#T_052de812_b3d9_11eb_8223_d8fc939094b6row12_col0,#T_052de812_b3d9_11eb_8223_d8fc939094b6row12_col1,#T_052de812_b3d9_11eb_8223_d8fc939094b6row12_col2,#T_052de812_b3d9_11eb_8223_d8fc939094b6row12_col3,#T_052de812_b3d9_11eb_8223_d8fc939094b6row12_col4,#T_052de812_b3d9_11eb_8223_d8fc939094b6row12_col5,#T_052de812_b3d9_11eb_8223_d8fc939094b6row12_col6,#T_052de812_b3d9_11eb_8223_d8fc939094b6row13_col0,#T_052de812_b3d9_11eb_8223_d8fc939094b6row13_col1,#T_052de812_b3d9_11eb_8223_d8fc939094b6row13_col2,#T_052de812_b3d9_11eb_8223_d8fc939094b6row13_col3,#T_052de812_b3d9_11eb_8223_d8fc939094b6row13_col4,#T_052de812_b3d9_11eb_8223_d8fc939094b6row13_col5,#T_052de812_b3d9_11eb_8223_d8fc939094b6row13_col6,#T_052de812_b3d9_11eb_8223_d8fc939094b6row14_col0,#T_052de812_b3d9_11eb_8223_d8fc939094b6row14_col1,#T_052de812_b3d9_11eb_8223_d8fc939094b6row14_col2,#T_052de812_b3d9_11eb_8223_d8fc939094b6row14_col3,#T_052de812_b3d9_11eb_8223_d8fc939094b6row14_col4,#T_052de812_b3d9_11eb_8223_d8fc939094b6row14_col5,#T_052de812_b3d9_11eb_8223_d8fc939094b6row14_col6,#T_052de812_b3d9_11eb_8223_d8fc939094b6row15_col0,#T_052de812_b3d9_11eb_8223_d8fc939094b6row15_col1,#T_052de812_b3d9_11eb_8223_d8fc939094b6row15_col2,#T_052de812_b3d9_11eb_8223_d8fc939094b6row15_col3,#T_052de812_b3d9_11eb_8223_d8fc939094b6row15_col4,#T_052de812_b3d9_11eb_8223_d8fc939094b6row15_col5,#T_052de812_b3d9_11eb_8223_d8fc939094b6row15_col6{\n",
       "            text-align:  left;\n",
       "            text-align:  left;\n",
       "        }#T_052de812_b3d9_11eb_8223_d8fc939094b6row0_col1,#T_052de812_b3d9_11eb_8223_d8fc939094b6row0_col2,#T_052de812_b3d9_11eb_8223_d8fc939094b6row0_col3,#T_052de812_b3d9_11eb_8223_d8fc939094b6row0_col4,#T_052de812_b3d9_11eb_8223_d8fc939094b6row0_col5,#T_052de812_b3d9_11eb_8223_d8fc939094b6row0_col6{\n",
       "            text-align:  left;\n",
       "            text-align:  left;\n",
       "            background-color:  yellow;\n",
       "        }#T_052de812_b3d9_11eb_8223_d8fc939094b6row0_col7,#T_052de812_b3d9_11eb_8223_d8fc939094b6row1_col7,#T_052de812_b3d9_11eb_8223_d8fc939094b6row2_col7,#T_052de812_b3d9_11eb_8223_d8fc939094b6row3_col7,#T_052de812_b3d9_11eb_8223_d8fc939094b6row4_col7,#T_052de812_b3d9_11eb_8223_d8fc939094b6row5_col7,#T_052de812_b3d9_11eb_8223_d8fc939094b6row6_col7,#T_052de812_b3d9_11eb_8223_d8fc939094b6row7_col7,#T_052de812_b3d9_11eb_8223_d8fc939094b6row8_col7,#T_052de812_b3d9_11eb_8223_d8fc939094b6row9_col7,#T_052de812_b3d9_11eb_8223_d8fc939094b6row10_col7,#T_052de812_b3d9_11eb_8223_d8fc939094b6row11_col7,#T_052de812_b3d9_11eb_8223_d8fc939094b6row13_col7,#T_052de812_b3d9_11eb_8223_d8fc939094b6row14_col7,#T_052de812_b3d9_11eb_8223_d8fc939094b6row15_col7{\n",
       "            text-align:  left;\n",
       "            text-align:  left;\n",
       "            background-color:  lightgrey;\n",
       "        }#T_052de812_b3d9_11eb_8223_d8fc939094b6row12_col7{\n",
       "            text-align:  left;\n",
       "            text-align:  left;\n",
       "            background-color:  yellow;\n",
       "            background-color:  lightgrey;\n",
       "        }</style><table id=\"T_052de812_b3d9_11eb_8223_d8fc939094b6\" ><thead>    <tr>        <th class=\"blank level0\" ></th>        <th class=\"col_heading level0 col0\" >Model</th>        <th class=\"col_heading level0 col1\" >MAE</th>        <th class=\"col_heading level0 col2\" >MSE</th>        <th class=\"col_heading level0 col3\" >RMSE</th>        <th class=\"col_heading level0 col4\" >R2</th>        <th class=\"col_heading level0 col5\" >RMSLE</th>        <th class=\"col_heading level0 col6\" >MAPE</th>        <th class=\"col_heading level0 col7\" >TT (Sec)</th>    </tr></thead><tbody>\n",
       "                <tr>\n",
       "                        <th id=\"T_052de812_b3d9_11eb_8223_d8fc939094b6level0_row0\" class=\"row_heading level0 row0\" >br</th>\n",
       "                        <td id=\"T_052de812_b3d9_11eb_8223_d8fc939094b6row0_col0\" class=\"data row0 col0\" >Bayesian Ridge</td>\n",
       "                        <td id=\"T_052de812_b3d9_11eb_8223_d8fc939094b6row0_col1\" class=\"data row0 col1\" >0.0845</td>\n",
       "                        <td id=\"T_052de812_b3d9_11eb_8223_d8fc939094b6row0_col2\" class=\"data row0 col2\" >0.0162</td>\n",
       "                        <td id=\"T_052de812_b3d9_11eb_8223_d8fc939094b6row0_col3\" class=\"data row0 col3\" >0.1259</td>\n",
       "                        <td id=\"T_052de812_b3d9_11eb_8223_d8fc939094b6row0_col4\" class=\"data row0 col4\" >0.8965</td>\n",
       "                        <td id=\"T_052de812_b3d9_11eb_8223_d8fc939094b6row0_col5\" class=\"data row0 col5\" >0.0098</td>\n",
       "                        <td id=\"T_052de812_b3d9_11eb_8223_d8fc939094b6row0_col6\" class=\"data row0 col6\" >0.0071</td>\n",
       "                        <td id=\"T_052de812_b3d9_11eb_8223_d8fc939094b6row0_col7\" class=\"data row0 col7\" >0.0330</td>\n",
       "            </tr>\n",
       "            <tr>\n",
       "                        <th id=\"T_052de812_b3d9_11eb_8223_d8fc939094b6level0_row1\" class=\"row_heading level0 row1\" >huber</th>\n",
       "                        <td id=\"T_052de812_b3d9_11eb_8223_d8fc939094b6row1_col0\" class=\"data row1 col0\" >Huber Regressor</td>\n",
       "                        <td id=\"T_052de812_b3d9_11eb_8223_d8fc939094b6row1_col1\" class=\"data row1 col1\" >0.0881</td>\n",
       "                        <td id=\"T_052de812_b3d9_11eb_8223_d8fc939094b6row1_col2\" class=\"data row1 col2\" >0.0175</td>\n",
       "                        <td id=\"T_052de812_b3d9_11eb_8223_d8fc939094b6row1_col3\" class=\"data row1 col3\" >0.1304</td>\n",
       "                        <td id=\"T_052de812_b3d9_11eb_8223_d8fc939094b6row1_col4\" class=\"data row1 col4\" >0.8894</td>\n",
       "                        <td id=\"T_052de812_b3d9_11eb_8223_d8fc939094b6row1_col5\" class=\"data row1 col5\" >0.0102</td>\n",
       "                        <td id=\"T_052de812_b3d9_11eb_8223_d8fc939094b6row1_col6\" class=\"data row1 col6\" >0.0074</td>\n",
       "                        <td id=\"T_052de812_b3d9_11eb_8223_d8fc939094b6row1_col7\" class=\"data row1 col7\" >0.1770</td>\n",
       "            </tr>\n",
       "            <tr>\n",
       "                        <th id=\"T_052de812_b3d9_11eb_8223_d8fc939094b6level0_row2\" class=\"row_heading level0 row2\" >ridge</th>\n",
       "                        <td id=\"T_052de812_b3d9_11eb_8223_d8fc939094b6row2_col0\" class=\"data row2 col0\" >Ridge Regression</td>\n",
       "                        <td id=\"T_052de812_b3d9_11eb_8223_d8fc939094b6row2_col1\" class=\"data row2 col1\" >0.0882</td>\n",
       "                        <td id=\"T_052de812_b3d9_11eb_8223_d8fc939094b6row2_col2\" class=\"data row2 col2\" >0.0176</td>\n",
       "                        <td id=\"T_052de812_b3d9_11eb_8223_d8fc939094b6row2_col3\" class=\"data row2 col3\" >0.1316</td>\n",
       "                        <td id=\"T_052de812_b3d9_11eb_8223_d8fc939094b6row2_col4\" class=\"data row2 col4\" >0.8868</td>\n",
       "                        <td id=\"T_052de812_b3d9_11eb_8223_d8fc939094b6row2_col5\" class=\"data row2 col5\" >0.0103</td>\n",
       "                        <td id=\"T_052de812_b3d9_11eb_8223_d8fc939094b6row2_col6\" class=\"data row2 col6\" >0.0074</td>\n",
       "                        <td id=\"T_052de812_b3d9_11eb_8223_d8fc939094b6row2_col7\" class=\"data row2 col7\" >0.0110</td>\n",
       "            </tr>\n",
       "            <tr>\n",
       "                        <th id=\"T_052de812_b3d9_11eb_8223_d8fc939094b6level0_row3\" class=\"row_heading level0 row3\" >gbr</th>\n",
       "                        <td id=\"T_052de812_b3d9_11eb_8223_d8fc939094b6row3_col0\" class=\"data row3 col0\" >Gradient Boosting Regressor</td>\n",
       "                        <td id=\"T_052de812_b3d9_11eb_8223_d8fc939094b6row3_col1\" class=\"data row3 col1\" >0.0883</td>\n",
       "                        <td id=\"T_052de812_b3d9_11eb_8223_d8fc939094b6row3_col2\" class=\"data row3 col2\" >0.0178</td>\n",
       "                        <td id=\"T_052de812_b3d9_11eb_8223_d8fc939094b6row3_col3\" class=\"data row3 col3\" >0.1324</td>\n",
       "                        <td id=\"T_052de812_b3d9_11eb_8223_d8fc939094b6row3_col4\" class=\"data row3 col4\" >0.8866</td>\n",
       "                        <td id=\"T_052de812_b3d9_11eb_8223_d8fc939094b6row3_col5\" class=\"data row3 col5\" >0.0103</td>\n",
       "                        <td id=\"T_052de812_b3d9_11eb_8223_d8fc939094b6row3_col6\" class=\"data row3 col6\" >0.0074</td>\n",
       "                        <td id=\"T_052de812_b3d9_11eb_8223_d8fc939094b6row3_col7\" class=\"data row3 col7\" >0.2760</td>\n",
       "            </tr>\n",
       "            <tr>\n",
       "                        <th id=\"T_052de812_b3d9_11eb_8223_d8fc939094b6level0_row4\" class=\"row_heading level0 row4\" >omp</th>\n",
       "                        <td id=\"T_052de812_b3d9_11eb_8223_d8fc939094b6row4_col0\" class=\"data row4 col0\" >Orthogonal Matching Pursuit</td>\n",
       "                        <td id=\"T_052de812_b3d9_11eb_8223_d8fc939094b6row4_col1\" class=\"data row4 col1\" >0.0923</td>\n",
       "                        <td id=\"T_052de812_b3d9_11eb_8223_d8fc939094b6row4_col2\" class=\"data row4 col2\" >0.0187</td>\n",
       "                        <td id=\"T_052de812_b3d9_11eb_8223_d8fc939094b6row4_col3\" class=\"data row4 col3\" >0.1357</td>\n",
       "                        <td id=\"T_052de812_b3d9_11eb_8223_d8fc939094b6row4_col4\" class=\"data row4 col4\" >0.8804</td>\n",
       "                        <td id=\"T_052de812_b3d9_11eb_8223_d8fc939094b6row4_col5\" class=\"data row4 col5\" >0.0105</td>\n",
       "                        <td id=\"T_052de812_b3d9_11eb_8223_d8fc939094b6row4_col6\" class=\"data row4 col6\" >0.0077</td>\n",
       "                        <td id=\"T_052de812_b3d9_11eb_8223_d8fc939094b6row4_col7\" class=\"data row4 col7\" >0.0130</td>\n",
       "            </tr>\n",
       "            <tr>\n",
       "                        <th id=\"T_052de812_b3d9_11eb_8223_d8fc939094b6level0_row5\" class=\"row_heading level0 row5\" >lightgbm</th>\n",
       "                        <td id=\"T_052de812_b3d9_11eb_8223_d8fc939094b6row5_col0\" class=\"data row5 col0\" >Light Gradient Boosting Machine</td>\n",
       "                        <td id=\"T_052de812_b3d9_11eb_8223_d8fc939094b6row5_col1\" class=\"data row5 col1\" >0.0912</td>\n",
       "                        <td id=\"T_052de812_b3d9_11eb_8223_d8fc939094b6row5_col2\" class=\"data row5 col2\" >0.0195</td>\n",
       "                        <td id=\"T_052de812_b3d9_11eb_8223_d8fc939094b6row5_col3\" class=\"data row5 col3\" >0.1388</td>\n",
       "                        <td id=\"T_052de812_b3d9_11eb_8223_d8fc939094b6row5_col4\" class=\"data row5 col4\" >0.8771</td>\n",
       "                        <td id=\"T_052de812_b3d9_11eb_8223_d8fc939094b6row5_col5\" class=\"data row5 col5\" >0.0108</td>\n",
       "                        <td id=\"T_052de812_b3d9_11eb_8223_d8fc939094b6row5_col6\" class=\"data row5 col6\" >0.0076</td>\n",
       "                        <td id=\"T_052de812_b3d9_11eb_8223_d8fc939094b6row5_col7\" class=\"data row5 col7\" >0.1010</td>\n",
       "            </tr>\n",
       "            <tr>\n",
       "                        <th id=\"T_052de812_b3d9_11eb_8223_d8fc939094b6level0_row6\" class=\"row_heading level0 row6\" >et</th>\n",
       "                        <td id=\"T_052de812_b3d9_11eb_8223_d8fc939094b6row6_col0\" class=\"data row6 col0\" >Extra Trees Regressor</td>\n",
       "                        <td id=\"T_052de812_b3d9_11eb_8223_d8fc939094b6row6_col1\" class=\"data row6 col1\" >0.0969</td>\n",
       "                        <td id=\"T_052de812_b3d9_11eb_8223_d8fc939094b6row6_col2\" class=\"data row6 col2\" >0.0209</td>\n",
       "                        <td id=\"T_052de812_b3d9_11eb_8223_d8fc939094b6row6_col3\" class=\"data row6 col3\" >0.1436</td>\n",
       "                        <td id=\"T_052de812_b3d9_11eb_8223_d8fc939094b6row6_col4\" class=\"data row6 col4\" >0.8683</td>\n",
       "                        <td id=\"T_052de812_b3d9_11eb_8223_d8fc939094b6row6_col5\" class=\"data row6 col5\" >0.0112</td>\n",
       "                        <td id=\"T_052de812_b3d9_11eb_8223_d8fc939094b6row6_col6\" class=\"data row6 col6\" >0.0081</td>\n",
       "                        <td id=\"T_052de812_b3d9_11eb_8223_d8fc939094b6row6_col7\" class=\"data row6 col7\" >0.7270</td>\n",
       "            </tr>\n",
       "            <tr>\n",
       "                        <th id=\"T_052de812_b3d9_11eb_8223_d8fc939094b6level0_row7\" class=\"row_heading level0 row7\" >rf</th>\n",
       "                        <td id=\"T_052de812_b3d9_11eb_8223_d8fc939094b6row7_col0\" class=\"data row7 col0\" >Random Forest Regressor</td>\n",
       "                        <td id=\"T_052de812_b3d9_11eb_8223_d8fc939094b6row7_col1\" class=\"data row7 col1\" >0.0968</td>\n",
       "                        <td id=\"T_052de812_b3d9_11eb_8223_d8fc939094b6row7_col2\" class=\"data row7 col2\" >0.0212</td>\n",
       "                        <td id=\"T_052de812_b3d9_11eb_8223_d8fc939094b6row7_col3\" class=\"data row7 col3\" >0.1447</td>\n",
       "                        <td id=\"T_052de812_b3d9_11eb_8223_d8fc939094b6row7_col4\" class=\"data row7 col4\" >0.8667</td>\n",
       "                        <td id=\"T_052de812_b3d9_11eb_8223_d8fc939094b6row7_col5\" class=\"data row7 col5\" >0.0113</td>\n",
       "                        <td id=\"T_052de812_b3d9_11eb_8223_d8fc939094b6row7_col6\" class=\"data row7 col6\" >0.0081</td>\n",
       "                        <td id=\"T_052de812_b3d9_11eb_8223_d8fc939094b6row7_col7\" class=\"data row7 col7\" >0.6670</td>\n",
       "            </tr>\n",
       "            <tr>\n",
       "                        <th id=\"T_052de812_b3d9_11eb_8223_d8fc939094b6level0_row8\" class=\"row_heading level0 row8\" >par</th>\n",
       "                        <td id=\"T_052de812_b3d9_11eb_8223_d8fc939094b6row8_col0\" class=\"data row8 col0\" >Passive Aggressive Regressor</td>\n",
       "                        <td id=\"T_052de812_b3d9_11eb_8223_d8fc939094b6row8_col1\" class=\"data row8 col1\" >0.1159</td>\n",
       "                        <td id=\"T_052de812_b3d9_11eb_8223_d8fc939094b6row8_col2\" class=\"data row8 col2\" >0.0261</td>\n",
       "                        <td id=\"T_052de812_b3d9_11eb_8223_d8fc939094b6row8_col3\" class=\"data row8 col3\" >0.1600</td>\n",
       "                        <td id=\"T_052de812_b3d9_11eb_8223_d8fc939094b6row8_col4\" class=\"data row8 col4\" >0.8348</td>\n",
       "                        <td id=\"T_052de812_b3d9_11eb_8223_d8fc939094b6row8_col5\" class=\"data row8 col5\" >0.0124</td>\n",
       "                        <td id=\"T_052de812_b3d9_11eb_8223_d8fc939094b6row8_col6\" class=\"data row8 col6\" >0.0097</td>\n",
       "                        <td id=\"T_052de812_b3d9_11eb_8223_d8fc939094b6row8_col7\" class=\"data row8 col7\" >0.0190</td>\n",
       "            </tr>\n",
       "            <tr>\n",
       "                        <th id=\"T_052de812_b3d9_11eb_8223_d8fc939094b6level0_row9\" class=\"row_heading level0 row9\" >knn</th>\n",
       "                        <td id=\"T_052de812_b3d9_11eb_8223_d8fc939094b6row9_col0\" class=\"data row9 col0\" >K Neighbors Regressor</td>\n",
       "                        <td id=\"T_052de812_b3d9_11eb_8223_d8fc939094b6row9_col1\" class=\"data row9 col1\" >0.1141</td>\n",
       "                        <td id=\"T_052de812_b3d9_11eb_8223_d8fc939094b6row9_col2\" class=\"data row9 col2\" >0.0271</td>\n",
       "                        <td id=\"T_052de812_b3d9_11eb_8223_d8fc939094b6row9_col3\" class=\"data row9 col3\" >0.1635</td>\n",
       "                        <td id=\"T_052de812_b3d9_11eb_8223_d8fc939094b6row9_col4\" class=\"data row9 col4\" >0.8309</td>\n",
       "                        <td id=\"T_052de812_b3d9_11eb_8223_d8fc939094b6row9_col5\" class=\"data row9 col5\" >0.0127</td>\n",
       "                        <td id=\"T_052de812_b3d9_11eb_8223_d8fc939094b6row9_col6\" class=\"data row9 col6\" >0.0095</td>\n",
       "                        <td id=\"T_052de812_b3d9_11eb_8223_d8fc939094b6row9_col7\" class=\"data row9 col7\" >0.0310</td>\n",
       "            </tr>\n",
       "            <tr>\n",
       "                        <th id=\"T_052de812_b3d9_11eb_8223_d8fc939094b6level0_row10\" class=\"row_heading level0 row10\" >ada</th>\n",
       "                        <td id=\"T_052de812_b3d9_11eb_8223_d8fc939094b6row10_col0\" class=\"data row10 col0\" >AdaBoost Regressor</td>\n",
       "                        <td id=\"T_052de812_b3d9_11eb_8223_d8fc939094b6row10_col1\" class=\"data row10 col1\" >0.1348</td>\n",
       "                        <td id=\"T_052de812_b3d9_11eb_8223_d8fc939094b6row10_col2\" class=\"data row10 col2\" >0.0336</td>\n",
       "                        <td id=\"T_052de812_b3d9_11eb_8223_d8fc939094b6row10_col3\" class=\"data row10 col3\" >0.1828</td>\n",
       "                        <td id=\"T_052de812_b3d9_11eb_8223_d8fc939094b6row10_col4\" class=\"data row10 col4\" >0.7871</td>\n",
       "                        <td id=\"T_052de812_b3d9_11eb_8223_d8fc939094b6row10_col5\" class=\"data row10 col5\" >0.0142</td>\n",
       "                        <td id=\"T_052de812_b3d9_11eb_8223_d8fc939094b6row10_col6\" class=\"data row10 col6\" >0.0113</td>\n",
       "                        <td id=\"T_052de812_b3d9_11eb_8223_d8fc939094b6row10_col7\" class=\"data row10 col7\" >0.1900</td>\n",
       "            </tr>\n",
       "            <tr>\n",
       "                        <th id=\"T_052de812_b3d9_11eb_8223_d8fc939094b6level0_row11\" class=\"row_heading level0 row11\" >dt</th>\n",
       "                        <td id=\"T_052de812_b3d9_11eb_8223_d8fc939094b6row11_col0\" class=\"data row11 col0\" >Decision Tree Regressor</td>\n",
       "                        <td id=\"T_052de812_b3d9_11eb_8223_d8fc939094b6row11_col1\" class=\"data row11 col1\" >0.1560</td>\n",
       "                        <td id=\"T_052de812_b3d9_11eb_8223_d8fc939094b6row11_col2\" class=\"data row11 col2\" >0.0493</td>\n",
       "                        <td id=\"T_052de812_b3d9_11eb_8223_d8fc939094b6row11_col3\" class=\"data row11 col3\" >0.2202</td>\n",
       "                        <td id=\"T_052de812_b3d9_11eb_8223_d8fc939094b6row11_col4\" class=\"data row11 col4\" >0.6875</td>\n",
       "                        <td id=\"T_052de812_b3d9_11eb_8223_d8fc939094b6row11_col5\" class=\"data row11 col5\" >0.0171</td>\n",
       "                        <td id=\"T_052de812_b3d9_11eb_8223_d8fc939094b6row11_col6\" class=\"data row11 col6\" >0.0130</td>\n",
       "                        <td id=\"T_052de812_b3d9_11eb_8223_d8fc939094b6row11_col7\" class=\"data row11 col7\" >0.0200</td>\n",
       "            </tr>\n",
       "            <tr>\n",
       "                        <th id=\"T_052de812_b3d9_11eb_8223_d8fc939094b6level0_row12\" class=\"row_heading level0 row12\" >lasso</th>\n",
       "                        <td id=\"T_052de812_b3d9_11eb_8223_d8fc939094b6row12_col0\" class=\"data row12 col0\" >Lasso Regression</td>\n",
       "                        <td id=\"T_052de812_b3d9_11eb_8223_d8fc939094b6row12_col1\" class=\"data row12 col1\" >0.3130</td>\n",
       "                        <td id=\"T_052de812_b3d9_11eb_8223_d8fc939094b6row12_col2\" class=\"data row12 col2\" >0.1637</td>\n",
       "                        <td id=\"T_052de812_b3d9_11eb_8223_d8fc939094b6row12_col3\" class=\"data row12 col3\" >0.4033</td>\n",
       "                        <td id=\"T_052de812_b3d9_11eb_8223_d8fc939094b6row12_col4\" class=\"data row12 col4\" >-0.0135</td>\n",
       "                        <td id=\"T_052de812_b3d9_11eb_8223_d8fc939094b6row12_col5\" class=\"data row12 col5\" >0.0310</td>\n",
       "                        <td id=\"T_052de812_b3d9_11eb_8223_d8fc939094b6row12_col6\" class=\"data row12 col6\" >0.0260</td>\n",
       "                        <td id=\"T_052de812_b3d9_11eb_8223_d8fc939094b6row12_col7\" class=\"data row12 col7\" >0.0100</td>\n",
       "            </tr>\n",
       "            <tr>\n",
       "                        <th id=\"T_052de812_b3d9_11eb_8223_d8fc939094b6level0_row13\" class=\"row_heading level0 row13\" >en</th>\n",
       "                        <td id=\"T_052de812_b3d9_11eb_8223_d8fc939094b6row13_col0\" class=\"data row13 col0\" >Elastic Net</td>\n",
       "                        <td id=\"T_052de812_b3d9_11eb_8223_d8fc939094b6row13_col1\" class=\"data row13 col1\" >0.3130</td>\n",
       "                        <td id=\"T_052de812_b3d9_11eb_8223_d8fc939094b6row13_col2\" class=\"data row13 col2\" >0.1637</td>\n",
       "                        <td id=\"T_052de812_b3d9_11eb_8223_d8fc939094b6row13_col3\" class=\"data row13 col3\" >0.4033</td>\n",
       "                        <td id=\"T_052de812_b3d9_11eb_8223_d8fc939094b6row13_col4\" class=\"data row13 col4\" >-0.0135</td>\n",
       "                        <td id=\"T_052de812_b3d9_11eb_8223_d8fc939094b6row13_col5\" class=\"data row13 col5\" >0.0310</td>\n",
       "                        <td id=\"T_052de812_b3d9_11eb_8223_d8fc939094b6row13_col6\" class=\"data row13 col6\" >0.0260</td>\n",
       "                        <td id=\"T_052de812_b3d9_11eb_8223_d8fc939094b6row13_col7\" class=\"data row13 col7\" >0.0110</td>\n",
       "            </tr>\n",
       "            <tr>\n",
       "                        <th id=\"T_052de812_b3d9_11eb_8223_d8fc939094b6level0_row14\" class=\"row_heading level0 row14\" >llar</th>\n",
       "                        <td id=\"T_052de812_b3d9_11eb_8223_d8fc939094b6row14_col0\" class=\"data row14 col0\" >Lasso Least Angle Regression</td>\n",
       "                        <td id=\"T_052de812_b3d9_11eb_8223_d8fc939094b6row14_col1\" class=\"data row14 col1\" >0.3130</td>\n",
       "                        <td id=\"T_052de812_b3d9_11eb_8223_d8fc939094b6row14_col2\" class=\"data row14 col2\" >0.1637</td>\n",
       "                        <td id=\"T_052de812_b3d9_11eb_8223_d8fc939094b6row14_col3\" class=\"data row14 col3\" >0.4033</td>\n",
       "                        <td id=\"T_052de812_b3d9_11eb_8223_d8fc939094b6row14_col4\" class=\"data row14 col4\" >-0.0135</td>\n",
       "                        <td id=\"T_052de812_b3d9_11eb_8223_d8fc939094b6row14_col5\" class=\"data row14 col5\" >0.0310</td>\n",
       "                        <td id=\"T_052de812_b3d9_11eb_8223_d8fc939094b6row14_col6\" class=\"data row14 col6\" >0.0260</td>\n",
       "                        <td id=\"T_052de812_b3d9_11eb_8223_d8fc939094b6row14_col7\" class=\"data row14 col7\" >0.5550</td>\n",
       "            </tr>\n",
       "            <tr>\n",
       "                        <th id=\"T_052de812_b3d9_11eb_8223_d8fc939094b6level0_row15\" class=\"row_heading level0 row15\" >lr</th>\n",
       "                        <td id=\"T_052de812_b3d9_11eb_8223_d8fc939094b6row15_col0\" class=\"data row15 col0\" >Linear Regression</td>\n",
       "                        <td id=\"T_052de812_b3d9_11eb_8223_d8fc939094b6row15_col1\" class=\"data row15 col1\" >0.1979</td>\n",
       "                        <td id=\"T_052de812_b3d9_11eb_8223_d8fc939094b6row15_col2\" class=\"data row15 col2\" >5.1407</td>\n",
       "                        <td id=\"T_052de812_b3d9_11eb_8223_d8fc939094b6row15_col3\" class=\"data row15 col3\" >1.1177</td>\n",
       "                        <td id=\"T_052de812_b3d9_11eb_8223_d8fc939094b6row15_col4\" class=\"data row15 col4\" >-33.6205</td>\n",
       "                        <td id=\"T_052de812_b3d9_11eb_8223_d8fc939094b6row15_col5\" class=\"data row15 col5\" >0.0391</td>\n",
       "                        <td id=\"T_052de812_b3d9_11eb_8223_d8fc939094b6row15_col6\" class=\"data row15 col6\" >0.0163</td>\n",
       "                        <td id=\"T_052de812_b3d9_11eb_8223_d8fc939094b6row15_col7\" class=\"data row15 col7\" >0.5940</td>\n",
       "            </tr>\n",
       "    </tbody></table>"
      ],
      "text/plain": [
       "<pandas.io.formats.style.Styler at 0x25a38d4ef10>"
      ]
     },
     "metadata": {},
     "output_type": "display_data"
    },
    {
     "data": {
      "text/plain": [
       "BayesianRidge(alpha_1=1e-06, alpha_2=1e-06, alpha_init=None,\n",
       "              compute_score=False, copy_X=True, fit_intercept=True,\n",
       "              lambda_1=1e-06, lambda_2=1e-06, lambda_init=None, n_iter=300,\n",
       "              normalize=False, tol=0.001, verbose=False)"
      ]
     },
     "execution_count": 115,
     "metadata": {},
     "output_type": "execute_result"
    }
   ],
   "source": [
    "compare_models()"
   ]
  },
  {
   "cell_type": "code",
   "execution_count": 116,
   "metadata": {},
   "outputs": [
    {
     "data": {
      "text/plain": [
       "BayesianRidge(alpha_1=1e-06, alpha_2=1e-06, alpha_init=None,\n",
       "              compute_score=False, copy_X=True, fit_intercept=True,\n",
       "              lambda_1=1e-06, lambda_2=1e-06, lambda_init=None, n_iter=300,\n",
       "              normalize=False, tol=0.001, verbose=False)"
      ]
     },
     "execution_count": 116,
     "metadata": {},
     "output_type": "execute_result"
    }
   ],
   "source": [
    "# from sklearn.ensemble import GradientBoostingRegressor\n",
    "# reg = GradientBoostingRegressor()\n",
    "# reg.fit(x_train, y_train)\n",
    "\n",
    "from sklearn.linear_model import BayesianRidge\n",
    "\n",
    "model = BayesianRidge()\n",
    "model.fit(train_data, df_train[\"SalePrice\"])"
   ]
  },
  {
   "cell_type": "code",
   "execution_count": 78,
   "metadata": {},
   "outputs": [],
   "source": [
    "y_=reg.predict(x_test)"
   ]
  },
  {
   "cell_type": "code",
   "execution_count": 80,
   "metadata": {},
   "outputs": [
    {
     "data": {
      "text/plain": [
       "438"
      ]
     },
     "execution_count": 80,
     "metadata": {},
     "output_type": "execute_result"
    }
   ],
   "source": [
    "len(y_)"
   ]
  },
  {
   "cell_type": "code",
   "execution_count": 81,
   "metadata": {},
   "outputs": [
    {
     "data": {
      "text/plain": [
       "0.9061840168420593"
      ]
     },
     "execution_count": 81,
     "metadata": {},
     "output_type": "execute_result"
    }
   ],
   "source": [
    "reg.score(x_test, y_test)"
   ]
  },
  {
   "cell_type": "code",
   "execution_count": 118,
   "metadata": {},
   "outputs": [],
   "source": [
    "y__=model.predict(test_data)"
   ]
  },
  {
   "cell_type": "code",
   "execution_count": 120,
   "metadata": {},
   "outputs": [],
   "source": [
    "y__=np.expm1(y__)"
   ]
  },
  {
   "cell_type": "code",
   "execution_count": 121,
   "metadata": {},
   "outputs": [],
   "source": [
    "y_pred = pd.DataFrame()\n",
    "\n",
    "y_pred['Id'] = df_test['Id']\n",
    "y_pred['SalePrice'] = y__\n",
    "\n",
    "y_pred.to_csv('attempt3.csv', index = False)"
   ]
  }
 ],
 "metadata": {
  "kernelspec": {
   "display_name": "Python 3",
   "language": "python",
   "name": "python3"
  },
  "language_info": {
   "codemirror_mode": {
    "name": "ipython",
    "version": 3
   },
   "file_extension": ".py",
   "mimetype": "text/x-python",
   "name": "python",
   "nbconvert_exporter": "python",
   "pygments_lexer": "ipython3",
   "version": "3.8.5"
  }
 },
 "nbformat": 4,
 "nbformat_minor": 4
}
